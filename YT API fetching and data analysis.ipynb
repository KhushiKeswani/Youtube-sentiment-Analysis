{
 "cells": [
  {
   "cell_type": "code",
   "execution_count": 1,
   "metadata": {},
   "outputs": [],
   "source": [
    "from googleapiclient.discovery import build"
   ]
  },
  {
   "cell_type": "code",
   "execution_count": 2,
   "metadata": {},
   "outputs": [],
   "source": [
    "import pandas as pd\n",
    "import seaborn as sns"
   ]
  },
  {
   "cell_type": "code",
   "execution_count": null,
   "metadata": {},
   "outputs": [],
   "source": [
    "api_key = 'AIxxxxxxxxxxxxxxxxxxxxxxxxxx'"
   ]
  },
  {
   "cell_type": "code",
   "execution_count": 114,
   "metadata": {},
   "outputs": [],
   "source": [
    "#channel_id = 'UCnz-ZXXER4jOvuED5trXfEA'\n",
    "\n",
    "channel_ids = ['UCnz-ZXXER4jOvuED5trXfEA',\n",
    "               'UCiT9RITQ9PW6BhXK0y2jaeg',\n",
    "               'UCI8JpGrDmtggrryhml8kFGw',\n",
    "               'UCLLw7jmFsvfIVaUFsLs8mlQ',\n",
    "               'UCpEJMMRoTIHJ8vG8q_EwqCg',\n",
    "               'UCJQJAI7IjbLcpsjWdSzYz0Q',\n",
    "               'UCNU_lfiiWBdtULKOw6X0Dig',\n",
    "               'UCCWi3hpnq_Pe03nGxuS7isg',\n",
    "               'UC1emV4A8liRs9p80CY8ElUQ',\n",
    "               'UC3rY5HOgbBvGmq7RnDfwF7A'\n",
    "            ]"
   ]
  },
  {
   "cell_type": "code",
   "execution_count": 5,
   "metadata": {},
   "outputs": [],
   "source": [
    "youtube = build('youtube', 'v3', developerKey = api_key)"
   ]
  },
  {
   "cell_type": "code",
   "execution_count": 139,
   "metadata": {},
   "outputs": [],
   "source": [
    "def get_channel_stats(youtube,channel_ids):\n",
    "    all_data = []\n",
    "    request = youtube.channels().list(\n",
    "               part = 'snippet,contentDetails,statistics',\n",
    "               id = ','.join(channel_ids))\n",
    "    \n",
    "    response = request.execute()\n",
    "\n",
    "    for i in range(len(response['items'])):\n",
    "\n",
    "        data = dict(Channel_Name = response['items'][i]['snippet']['title'],\n",
    "                    subscribers = response['items'][i]['statistics']['subscriberCount'],\n",
    "                    views = response['items'][i]['statistics']['viewCount'],\n",
    "                    Total_videos = response['items'][i]['statistics']['videoCount'],\n",
    "                    Playlist_id = response['items'][i]['contentDetails']['relatedPlaylists']['uploads']\n",
    "                    )\n",
    "        all_data.append(data)\n",
    "    return all_data"
   ]
  },
  {
   "cell_type": "code",
   "execution_count": 140,
   "metadata": {},
   "outputs": [
    {
     "data": {
      "text/plain": [
       "[{'Channel_Name': \"Ken's Nearest Neighbors Podcast\",\n",
       "  'subscribers': '11300',\n",
       "  'views': '617753',\n",
       "  'Total_videos': '424',\n",
       "  'Playlist_id': 'UUpEJMMRoTIHJ8vG8q_EwqCg'},\n",
       " {'Channel_Name': 'Ken Jee',\n",
       "  'subscribers': '266000',\n",
       "  'views': '9301298',\n",
       "  'Total_videos': '288',\n",
       "  'Playlist_id': 'UUiT9RITQ9PW6BhXK0y2jaeg'},\n",
       " {'Channel_Name': 'Thu Vu',\n",
       "  'subscribers': '285000',\n",
       "  'views': '9910042',\n",
       "  'Total_videos': '90',\n",
       "  'Playlist_id': 'UUJQJAI7IjbLcpsjWdSzYz0Q'},\n",
       " {'Channel_Name': 'techTFQ',\n",
       "  'subscribers': '352000',\n",
       "  'views': '19979654',\n",
       "  'Total_videos': '139',\n",
       "  'Playlist_id': 'UUnz-ZXXER4jOvuED5trXfEA'},\n",
       " {'Channel_Name': 'Study with Tina',\n",
       "  'subscribers': '20600',\n",
       "  'views': '321548',\n",
       "  'Total_videos': '302',\n",
       "  'Playlist_id': 'UUI8JpGrDmtggrryhml8kFGw'},\n",
       " {'Channel_Name': 'Luke Barousse',\n",
       "  'subscribers': '495000',\n",
       "  'views': '24722712',\n",
       "  'Total_videos': '163',\n",
       "  'Playlist_id': 'UULLw7jmFsvfIVaUFsLs8mlQ'},\n",
       " {'Channel_Name': 'Rishabh Mishra',\n",
       "  'subscribers': '366000',\n",
       "  'views': '25658995',\n",
       "  'Total_videos': '120',\n",
       "  'Playlist_id': 'UU3rY5HOgbBvGmq7RnDfwF7A'},\n",
       " {'Channel_Name': 'CampusX',\n",
       "  'subscribers': '280000',\n",
       "  'views': '32934054',\n",
       "  'Total_videos': '1213',\n",
       "  'Playlist_id': 'UUCWi3hpnq_Pe03nGxuS7isg'},\n",
       " {'Channel_Name': 'Krish Naik',\n",
       "  'subscribers': '1100000',\n",
       "  'views': '111789502',\n",
       "  'Total_videos': '1982',\n",
       "  'Playlist_id': 'UUNU_lfiiWBdtULKOw6X0Dig'},\n",
       " {'Channel_Name': 'freeCodeCamp Español',\n",
       "  'subscribers': '258000',\n",
       "  'views': '10099504',\n",
       "  'Total_videos': '158',\n",
       "  'Playlist_id': 'UU1emV4A8liRs9p80CY8ElUQ'}]"
      ]
     },
     "execution_count": 140,
     "metadata": {},
     "output_type": "execute_result"
    }
   ],
   "source": [
    "channel_statistics = get_channel_stats(youtube,channel_ids)\n",
    "channel_statistics"
   ]
  },
  {
   "cell_type": "code",
   "execution_count": 141,
   "metadata": {},
   "outputs": [],
   "source": [
    "channel_data = pd.DataFrame(channel_statistics)"
   ]
  },
  {
   "cell_type": "code",
   "execution_count": 142,
   "metadata": {},
   "outputs": [
    {
     "data": {
      "text/html": [
       "<div>\n",
       "<style scoped>\n",
       "    .dataframe tbody tr th:only-of-type {\n",
       "        vertical-align: middle;\n",
       "    }\n",
       "\n",
       "    .dataframe tbody tr th {\n",
       "        vertical-align: top;\n",
       "    }\n",
       "\n",
       "    .dataframe thead th {\n",
       "        text-align: right;\n",
       "    }\n",
       "</style>\n",
       "<table border=\"1\" class=\"dataframe\">\n",
       "  <thead>\n",
       "    <tr style=\"text-align: right;\">\n",
       "      <th></th>\n",
       "      <th>Channel_Name</th>\n",
       "      <th>subscribers</th>\n",
       "      <th>views</th>\n",
       "      <th>Total_videos</th>\n",
       "      <th>Playlist_id</th>\n",
       "    </tr>\n",
       "  </thead>\n",
       "  <tbody>\n",
       "    <tr>\n",
       "      <th>0</th>\n",
       "      <td>Ken's Nearest Neighbors Podcast</td>\n",
       "      <td>11300</td>\n",
       "      <td>617753</td>\n",
       "      <td>424</td>\n",
       "      <td>UUpEJMMRoTIHJ8vG8q_EwqCg</td>\n",
       "    </tr>\n",
       "    <tr>\n",
       "      <th>1</th>\n",
       "      <td>Ken Jee</td>\n",
       "      <td>266000</td>\n",
       "      <td>9301298</td>\n",
       "      <td>288</td>\n",
       "      <td>UUiT9RITQ9PW6BhXK0y2jaeg</td>\n",
       "    </tr>\n",
       "    <tr>\n",
       "      <th>2</th>\n",
       "      <td>Thu Vu</td>\n",
       "      <td>285000</td>\n",
       "      <td>9910042</td>\n",
       "      <td>90</td>\n",
       "      <td>UUJQJAI7IjbLcpsjWdSzYz0Q</td>\n",
       "    </tr>\n",
       "    <tr>\n",
       "      <th>3</th>\n",
       "      <td>techTFQ</td>\n",
       "      <td>352000</td>\n",
       "      <td>19979654</td>\n",
       "      <td>139</td>\n",
       "      <td>UUnz-ZXXER4jOvuED5trXfEA</td>\n",
       "    </tr>\n",
       "    <tr>\n",
       "      <th>4</th>\n",
       "      <td>Study with Tina</td>\n",
       "      <td>20600</td>\n",
       "      <td>321548</td>\n",
       "      <td>302</td>\n",
       "      <td>UUI8JpGrDmtggrryhml8kFGw</td>\n",
       "    </tr>\n",
       "    <tr>\n",
       "      <th>5</th>\n",
       "      <td>Luke Barousse</td>\n",
       "      <td>495000</td>\n",
       "      <td>24722712</td>\n",
       "      <td>163</td>\n",
       "      <td>UULLw7jmFsvfIVaUFsLs8mlQ</td>\n",
       "    </tr>\n",
       "    <tr>\n",
       "      <th>6</th>\n",
       "      <td>Rishabh Mishra</td>\n",
       "      <td>366000</td>\n",
       "      <td>25658995</td>\n",
       "      <td>120</td>\n",
       "      <td>UU3rY5HOgbBvGmq7RnDfwF7A</td>\n",
       "    </tr>\n",
       "    <tr>\n",
       "      <th>7</th>\n",
       "      <td>CampusX</td>\n",
       "      <td>280000</td>\n",
       "      <td>32934054</td>\n",
       "      <td>1213</td>\n",
       "      <td>UUCWi3hpnq_Pe03nGxuS7isg</td>\n",
       "    </tr>\n",
       "    <tr>\n",
       "      <th>8</th>\n",
       "      <td>Krish Naik</td>\n",
       "      <td>1100000</td>\n",
       "      <td>111789502</td>\n",
       "      <td>1982</td>\n",
       "      <td>UUNU_lfiiWBdtULKOw6X0Dig</td>\n",
       "    </tr>\n",
       "    <tr>\n",
       "      <th>9</th>\n",
       "      <td>freeCodeCamp Español</td>\n",
       "      <td>258000</td>\n",
       "      <td>10099504</td>\n",
       "      <td>158</td>\n",
       "      <td>UU1emV4A8liRs9p80CY8ElUQ</td>\n",
       "    </tr>\n",
       "  </tbody>\n",
       "</table>\n",
       "</div>"
      ],
      "text/plain": [
       "                      Channel_Name subscribers      views Total_videos  \\\n",
       "0  Ken's Nearest Neighbors Podcast       11300     617753          424   \n",
       "1                          Ken Jee      266000    9301298          288   \n",
       "2                           Thu Vu      285000    9910042           90   \n",
       "3                          techTFQ      352000   19979654          139   \n",
       "4                  Study with Tina       20600     321548          302   \n",
       "5                    Luke Barousse      495000   24722712          163   \n",
       "6                   Rishabh Mishra      366000   25658995          120   \n",
       "7                          CampusX      280000   32934054         1213   \n",
       "8                       Krish Naik     1100000  111789502         1982   \n",
       "9             freeCodeCamp Español      258000   10099504          158   \n",
       "\n",
       "                Playlist_id  \n",
       "0  UUpEJMMRoTIHJ8vG8q_EwqCg  \n",
       "1  UUiT9RITQ9PW6BhXK0y2jaeg  \n",
       "2  UUJQJAI7IjbLcpsjWdSzYz0Q  \n",
       "3  UUnz-ZXXER4jOvuED5trXfEA  \n",
       "4  UUI8JpGrDmtggrryhml8kFGw  \n",
       "5  UULLw7jmFsvfIVaUFsLs8mlQ  \n",
       "6  UU3rY5HOgbBvGmq7RnDfwF7A  \n",
       "7  UUCWi3hpnq_Pe03nGxuS7isg  \n",
       "8  UUNU_lfiiWBdtULKOw6X0Dig  \n",
       "9  UU1emV4A8liRs9p80CY8ElUQ  "
      ]
     },
     "execution_count": 142,
     "metadata": {},
     "output_type": "execute_result"
    }
   ],
   "source": [
    "channel_data"
   ]
  },
  {
   "cell_type": "code",
   "execution_count": 122,
   "metadata": {},
   "outputs": [
    {
     "data": {
      "text/plain": [
       "Channel_Name    object\n",
       "subscribers     object\n",
       "views           object\n",
       "Total_videos    object\n",
       "dtype: object"
      ]
     },
     "execution_count": 122,
     "metadata": {},
     "output_type": "execute_result"
    }
   ],
   "source": [
    "channel_data.dtypes"
   ]
  },
  {
   "cell_type": "code",
   "execution_count": 123,
   "metadata": {},
   "outputs": [],
   "source": [
    "channel_data['subscribers'] = pd.to_numeric(channel_data['subscribers'])\n",
    "channel_data['views'] = pd.to_numeric(channel_data['views'])\n",
    "channel_data['Total_videos'] = pd.to_numeric(channel_data['Total_videos'])"
   ]
  },
  {
   "cell_type": "code",
   "execution_count": 124,
   "metadata": {},
   "outputs": [
    {
     "data": {
      "text/plain": [
       "Channel_Name    object\n",
       "subscribers      int64\n",
       "views            int64\n",
       "Total_videos     int64\n",
       "dtype: object"
      ]
     },
     "execution_count": 124,
     "metadata": {},
     "output_type": "execute_result"
    }
   ],
   "source": [
    "channel_data.dtypes"
   ]
  },
  {
   "cell_type": "code",
   "execution_count": 267,
   "metadata": {},
   "outputs": [
    {
     "data": {
      "application/vnd.plotly.v1+json": {
       "config": {
        "plotlyServerURL": "https://plot.ly"
       },
       "data": [
        {
         "alignmentgroup": "True",
         "hovertemplate": "Channel_Name=%{x}<br>subscribers=%{y}<extra></extra>",
         "legendgroup": "Ken's Nearest Neighbors Podcast",
         "marker": {
          "color": "rgb(141,211,199)",
          "pattern": {
           "shape": ""
          }
         },
         "name": "Ken's Nearest Neighbors Podcast",
         "offsetgroup": "Ken's Nearest Neighbors Podcast",
         "orientation": "v",
         "showlegend": true,
         "textposition": "auto",
         "type": "bar",
         "x": [
          "Ken's Nearest Neighbors Podcast"
         ],
         "xaxis": "x",
         "y": [
          "11300"
         ],
         "yaxis": "y"
        },
        {
         "alignmentgroup": "True",
         "hovertemplate": "Channel_Name=%{x}<br>subscribers=%{y}<extra></extra>",
         "legendgroup": "Ken Jee",
         "marker": {
          "color": "rgb(255,255,179)",
          "pattern": {
           "shape": ""
          }
         },
         "name": "Ken Jee",
         "offsetgroup": "Ken Jee",
         "orientation": "v",
         "showlegend": true,
         "textposition": "auto",
         "type": "bar",
         "x": [
          "Ken Jee"
         ],
         "xaxis": "x",
         "y": [
          "266000"
         ],
         "yaxis": "y"
        },
        {
         "alignmentgroup": "True",
         "hovertemplate": "Channel_Name=%{x}<br>subscribers=%{y}<extra></extra>",
         "legendgroup": "Thu Vu",
         "marker": {
          "color": "rgb(190,186,218)",
          "pattern": {
           "shape": ""
          }
         },
         "name": "Thu Vu",
         "offsetgroup": "Thu Vu",
         "orientation": "v",
         "showlegend": true,
         "textposition": "auto",
         "type": "bar",
         "x": [
          "Thu Vu"
         ],
         "xaxis": "x",
         "y": [
          "285000"
         ],
         "yaxis": "y"
        },
        {
         "alignmentgroup": "True",
         "hovertemplate": "Channel_Name=%{x}<br>subscribers=%{y}<extra></extra>",
         "legendgroup": "techTFQ",
         "marker": {
          "color": "rgb(251,128,114)",
          "pattern": {
           "shape": ""
          }
         },
         "name": "techTFQ",
         "offsetgroup": "techTFQ",
         "orientation": "v",
         "showlegend": true,
         "textposition": "auto",
         "type": "bar",
         "x": [
          "techTFQ"
         ],
         "xaxis": "x",
         "y": [
          "352000"
         ],
         "yaxis": "y"
        },
        {
         "alignmentgroup": "True",
         "hovertemplate": "Channel_Name=%{x}<br>subscribers=%{y}<extra></extra>",
         "legendgroup": "Study with Tina",
         "marker": {
          "color": "rgb(128,177,211)",
          "pattern": {
           "shape": ""
          }
         },
         "name": "Study with Tina",
         "offsetgroup": "Study with Tina",
         "orientation": "v",
         "showlegend": true,
         "textposition": "auto",
         "type": "bar",
         "x": [
          "Study with Tina"
         ],
         "xaxis": "x",
         "y": [
          "20600"
         ],
         "yaxis": "y"
        },
        {
         "alignmentgroup": "True",
         "hovertemplate": "Channel_Name=%{x}<br>subscribers=%{y}<extra></extra>",
         "legendgroup": "Luke Barousse",
         "marker": {
          "color": "rgb(253,180,98)",
          "pattern": {
           "shape": ""
          }
         },
         "name": "Luke Barousse",
         "offsetgroup": "Luke Barousse",
         "orientation": "v",
         "showlegend": true,
         "textposition": "auto",
         "type": "bar",
         "x": [
          "Luke Barousse"
         ],
         "xaxis": "x",
         "y": [
          "495000"
         ],
         "yaxis": "y"
        },
        {
         "alignmentgroup": "True",
         "hovertemplate": "Channel_Name=%{x}<br>subscribers=%{y}<extra></extra>",
         "legendgroup": "Rishabh Mishra",
         "marker": {
          "color": "rgb(179,222,105)",
          "pattern": {
           "shape": ""
          }
         },
         "name": "Rishabh Mishra",
         "offsetgroup": "Rishabh Mishra",
         "orientation": "v",
         "showlegend": true,
         "textposition": "auto",
         "type": "bar",
         "x": [
          "Rishabh Mishra"
         ],
         "xaxis": "x",
         "y": [
          "366000"
         ],
         "yaxis": "y"
        },
        {
         "alignmentgroup": "True",
         "hovertemplate": "Channel_Name=%{x}<br>subscribers=%{y}<extra></extra>",
         "legendgroup": "CampusX",
         "marker": {
          "color": "rgb(252,205,229)",
          "pattern": {
           "shape": ""
          }
         },
         "name": "CampusX",
         "offsetgroup": "CampusX",
         "orientation": "v",
         "showlegend": true,
         "textposition": "auto",
         "type": "bar",
         "x": [
          "CampusX"
         ],
         "xaxis": "x",
         "y": [
          "280000"
         ],
         "yaxis": "y"
        },
        {
         "alignmentgroup": "True",
         "hovertemplate": "Channel_Name=%{x}<br>subscribers=%{y}<extra></extra>",
         "legendgroup": "Krish Naik",
         "marker": {
          "color": "rgb(217,217,217)",
          "pattern": {
           "shape": ""
          }
         },
         "name": "Krish Naik",
         "offsetgroup": "Krish Naik",
         "orientation": "v",
         "showlegend": true,
         "textposition": "auto",
         "type": "bar",
         "x": [
          "Krish Naik"
         ],
         "xaxis": "x",
         "y": [
          "1100000"
         ],
         "yaxis": "y"
        },
        {
         "alignmentgroup": "True",
         "hovertemplate": "Channel_Name=%{x}<br>subscribers=%{y}<extra></extra>",
         "legendgroup": "freeCodeCamp Español",
         "marker": {
          "color": "rgb(188,128,189)",
          "pattern": {
           "shape": ""
          }
         },
         "name": "freeCodeCamp Español",
         "offsetgroup": "freeCodeCamp Español",
         "orientation": "v",
         "showlegend": true,
         "textposition": "auto",
         "type": "bar",
         "x": [
          "freeCodeCamp Español"
         ],
         "xaxis": "x",
         "y": [
          "258000"
         ],
         "yaxis": "y"
        }
       ],
       "layout": {
        "barmode": "relative",
        "legend": {
         "title": {
          "text": "Channel_Name"
         },
         "tracegroupgap": 0
        },
        "template": {
         "data": {
          "bar": [
           {
            "error_x": {
             "color": "#2a3f5f"
            },
            "error_y": {
             "color": "#2a3f5f"
            },
            "marker": {
             "line": {
              "color": "#E5ECF6",
              "width": 0.5
             },
             "pattern": {
              "fillmode": "overlay",
              "size": 10,
              "solidity": 0.2
             }
            },
            "type": "bar"
           }
          ],
          "barpolar": [
           {
            "marker": {
             "line": {
              "color": "#E5ECF6",
              "width": 0.5
             },
             "pattern": {
              "fillmode": "overlay",
              "size": 10,
              "solidity": 0.2
             }
            },
            "type": "barpolar"
           }
          ],
          "carpet": [
           {
            "aaxis": {
             "endlinecolor": "#2a3f5f",
             "gridcolor": "white",
             "linecolor": "white",
             "minorgridcolor": "white",
             "startlinecolor": "#2a3f5f"
            },
            "baxis": {
             "endlinecolor": "#2a3f5f",
             "gridcolor": "white",
             "linecolor": "white",
             "minorgridcolor": "white",
             "startlinecolor": "#2a3f5f"
            },
            "type": "carpet"
           }
          ],
          "choropleth": [
           {
            "colorbar": {
             "outlinewidth": 0,
             "ticks": ""
            },
            "type": "choropleth"
           }
          ],
          "contour": [
           {
            "colorbar": {
             "outlinewidth": 0,
             "ticks": ""
            },
            "colorscale": [
             [
              0,
              "#0d0887"
             ],
             [
              0.1111111111111111,
              "#46039f"
             ],
             [
              0.2222222222222222,
              "#7201a8"
             ],
             [
              0.3333333333333333,
              "#9c179e"
             ],
             [
              0.4444444444444444,
              "#bd3786"
             ],
             [
              0.5555555555555556,
              "#d8576b"
             ],
             [
              0.6666666666666666,
              "#ed7953"
             ],
             [
              0.7777777777777778,
              "#fb9f3a"
             ],
             [
              0.8888888888888888,
              "#fdca26"
             ],
             [
              1,
              "#f0f921"
             ]
            ],
            "type": "contour"
           }
          ],
          "contourcarpet": [
           {
            "colorbar": {
             "outlinewidth": 0,
             "ticks": ""
            },
            "type": "contourcarpet"
           }
          ],
          "heatmap": [
           {
            "colorbar": {
             "outlinewidth": 0,
             "ticks": ""
            },
            "colorscale": [
             [
              0,
              "#0d0887"
             ],
             [
              0.1111111111111111,
              "#46039f"
             ],
             [
              0.2222222222222222,
              "#7201a8"
             ],
             [
              0.3333333333333333,
              "#9c179e"
             ],
             [
              0.4444444444444444,
              "#bd3786"
             ],
             [
              0.5555555555555556,
              "#d8576b"
             ],
             [
              0.6666666666666666,
              "#ed7953"
             ],
             [
              0.7777777777777778,
              "#fb9f3a"
             ],
             [
              0.8888888888888888,
              "#fdca26"
             ],
             [
              1,
              "#f0f921"
             ]
            ],
            "type": "heatmap"
           }
          ],
          "heatmapgl": [
           {
            "colorbar": {
             "outlinewidth": 0,
             "ticks": ""
            },
            "colorscale": [
             [
              0,
              "#0d0887"
             ],
             [
              0.1111111111111111,
              "#46039f"
             ],
             [
              0.2222222222222222,
              "#7201a8"
             ],
             [
              0.3333333333333333,
              "#9c179e"
             ],
             [
              0.4444444444444444,
              "#bd3786"
             ],
             [
              0.5555555555555556,
              "#d8576b"
             ],
             [
              0.6666666666666666,
              "#ed7953"
             ],
             [
              0.7777777777777778,
              "#fb9f3a"
             ],
             [
              0.8888888888888888,
              "#fdca26"
             ],
             [
              1,
              "#f0f921"
             ]
            ],
            "type": "heatmapgl"
           }
          ],
          "histogram": [
           {
            "marker": {
             "pattern": {
              "fillmode": "overlay",
              "size": 10,
              "solidity": 0.2
             }
            },
            "type": "histogram"
           }
          ],
          "histogram2d": [
           {
            "colorbar": {
             "outlinewidth": 0,
             "ticks": ""
            },
            "colorscale": [
             [
              0,
              "#0d0887"
             ],
             [
              0.1111111111111111,
              "#46039f"
             ],
             [
              0.2222222222222222,
              "#7201a8"
             ],
             [
              0.3333333333333333,
              "#9c179e"
             ],
             [
              0.4444444444444444,
              "#bd3786"
             ],
             [
              0.5555555555555556,
              "#d8576b"
             ],
             [
              0.6666666666666666,
              "#ed7953"
             ],
             [
              0.7777777777777778,
              "#fb9f3a"
             ],
             [
              0.8888888888888888,
              "#fdca26"
             ],
             [
              1,
              "#f0f921"
             ]
            ],
            "type": "histogram2d"
           }
          ],
          "histogram2dcontour": [
           {
            "colorbar": {
             "outlinewidth": 0,
             "ticks": ""
            },
            "colorscale": [
             [
              0,
              "#0d0887"
             ],
             [
              0.1111111111111111,
              "#46039f"
             ],
             [
              0.2222222222222222,
              "#7201a8"
             ],
             [
              0.3333333333333333,
              "#9c179e"
             ],
             [
              0.4444444444444444,
              "#bd3786"
             ],
             [
              0.5555555555555556,
              "#d8576b"
             ],
             [
              0.6666666666666666,
              "#ed7953"
             ],
             [
              0.7777777777777778,
              "#fb9f3a"
             ],
             [
              0.8888888888888888,
              "#fdca26"
             ],
             [
              1,
              "#f0f921"
             ]
            ],
            "type": "histogram2dcontour"
           }
          ],
          "mesh3d": [
           {
            "colorbar": {
             "outlinewidth": 0,
             "ticks": ""
            },
            "type": "mesh3d"
           }
          ],
          "parcoords": [
           {
            "line": {
             "colorbar": {
              "outlinewidth": 0,
              "ticks": ""
             }
            },
            "type": "parcoords"
           }
          ],
          "pie": [
           {
            "automargin": true,
            "type": "pie"
           }
          ],
          "scatter": [
           {
            "fillpattern": {
             "fillmode": "overlay",
             "size": 10,
             "solidity": 0.2
            },
            "type": "scatter"
           }
          ],
          "scatter3d": [
           {
            "line": {
             "colorbar": {
              "outlinewidth": 0,
              "ticks": ""
             }
            },
            "marker": {
             "colorbar": {
              "outlinewidth": 0,
              "ticks": ""
             }
            },
            "type": "scatter3d"
           }
          ],
          "scattercarpet": [
           {
            "marker": {
             "colorbar": {
              "outlinewidth": 0,
              "ticks": ""
             }
            },
            "type": "scattercarpet"
           }
          ],
          "scattergeo": [
           {
            "marker": {
             "colorbar": {
              "outlinewidth": 0,
              "ticks": ""
             }
            },
            "type": "scattergeo"
           }
          ],
          "scattergl": [
           {
            "marker": {
             "colorbar": {
              "outlinewidth": 0,
              "ticks": ""
             }
            },
            "type": "scattergl"
           }
          ],
          "scattermapbox": [
           {
            "marker": {
             "colorbar": {
              "outlinewidth": 0,
              "ticks": ""
             }
            },
            "type": "scattermapbox"
           }
          ],
          "scatterpolar": [
           {
            "marker": {
             "colorbar": {
              "outlinewidth": 0,
              "ticks": ""
             }
            },
            "type": "scatterpolar"
           }
          ],
          "scatterpolargl": [
           {
            "marker": {
             "colorbar": {
              "outlinewidth": 0,
              "ticks": ""
             }
            },
            "type": "scatterpolargl"
           }
          ],
          "scatterternary": [
           {
            "marker": {
             "colorbar": {
              "outlinewidth": 0,
              "ticks": ""
             }
            },
            "type": "scatterternary"
           }
          ],
          "surface": [
           {
            "colorbar": {
             "outlinewidth": 0,
             "ticks": ""
            },
            "colorscale": [
             [
              0,
              "#0d0887"
             ],
             [
              0.1111111111111111,
              "#46039f"
             ],
             [
              0.2222222222222222,
              "#7201a8"
             ],
             [
              0.3333333333333333,
              "#9c179e"
             ],
             [
              0.4444444444444444,
              "#bd3786"
             ],
             [
              0.5555555555555556,
              "#d8576b"
             ],
             [
              0.6666666666666666,
              "#ed7953"
             ],
             [
              0.7777777777777778,
              "#fb9f3a"
             ],
             [
              0.8888888888888888,
              "#fdca26"
             ],
             [
              1,
              "#f0f921"
             ]
            ],
            "type": "surface"
           }
          ],
          "table": [
           {
            "cells": {
             "fill": {
              "color": "#EBF0F8"
             },
             "line": {
              "color": "white"
             }
            },
            "header": {
             "fill": {
              "color": "#C8D4E3"
             },
             "line": {
              "color": "white"
             }
            },
            "type": "table"
           }
          ]
         },
         "layout": {
          "annotationdefaults": {
           "arrowcolor": "#2a3f5f",
           "arrowhead": 0,
           "arrowwidth": 1
          },
          "autotypenumbers": "strict",
          "coloraxis": {
           "colorbar": {
            "outlinewidth": 0,
            "ticks": ""
           }
          },
          "colorscale": {
           "diverging": [
            [
             0,
             "#8e0152"
            ],
            [
             0.1,
             "#c51b7d"
            ],
            [
             0.2,
             "#de77ae"
            ],
            [
             0.3,
             "#f1b6da"
            ],
            [
             0.4,
             "#fde0ef"
            ],
            [
             0.5,
             "#f7f7f7"
            ],
            [
             0.6,
             "#e6f5d0"
            ],
            [
             0.7,
             "#b8e186"
            ],
            [
             0.8,
             "#7fbc41"
            ],
            [
             0.9,
             "#4d9221"
            ],
            [
             1,
             "#276419"
            ]
           ],
           "sequential": [
            [
             0,
             "#0d0887"
            ],
            [
             0.1111111111111111,
             "#46039f"
            ],
            [
             0.2222222222222222,
             "#7201a8"
            ],
            [
             0.3333333333333333,
             "#9c179e"
            ],
            [
             0.4444444444444444,
             "#bd3786"
            ],
            [
             0.5555555555555556,
             "#d8576b"
            ],
            [
             0.6666666666666666,
             "#ed7953"
            ],
            [
             0.7777777777777778,
             "#fb9f3a"
            ],
            [
             0.8888888888888888,
             "#fdca26"
            ],
            [
             1,
             "#f0f921"
            ]
           ],
           "sequentialminus": [
            [
             0,
             "#0d0887"
            ],
            [
             0.1111111111111111,
             "#46039f"
            ],
            [
             0.2222222222222222,
             "#7201a8"
            ],
            [
             0.3333333333333333,
             "#9c179e"
            ],
            [
             0.4444444444444444,
             "#bd3786"
            ],
            [
             0.5555555555555556,
             "#d8576b"
            ],
            [
             0.6666666666666666,
             "#ed7953"
            ],
            [
             0.7777777777777778,
             "#fb9f3a"
            ],
            [
             0.8888888888888888,
             "#fdca26"
            ],
            [
             1,
             "#f0f921"
            ]
           ]
          },
          "colorway": [
           "#636efa",
           "#EF553B",
           "#00cc96",
           "#ab63fa",
           "#FFA15A",
           "#19d3f3",
           "#FF6692",
           "#B6E880",
           "#FF97FF",
           "#FECB52"
          ],
          "font": {
           "color": "#2a3f5f"
          },
          "geo": {
           "bgcolor": "white",
           "lakecolor": "white",
           "landcolor": "#E5ECF6",
           "showlakes": true,
           "showland": true,
           "subunitcolor": "white"
          },
          "hoverlabel": {
           "align": "left"
          },
          "hovermode": "closest",
          "mapbox": {
           "style": "light"
          },
          "paper_bgcolor": "white",
          "plot_bgcolor": "#E5ECF6",
          "polar": {
           "angularaxis": {
            "gridcolor": "white",
            "linecolor": "white",
            "ticks": ""
           },
           "bgcolor": "#E5ECF6",
           "radialaxis": {
            "gridcolor": "white",
            "linecolor": "white",
            "ticks": ""
           }
          },
          "scene": {
           "xaxis": {
            "backgroundcolor": "#E5ECF6",
            "gridcolor": "white",
            "gridwidth": 2,
            "linecolor": "white",
            "showbackground": true,
            "ticks": "",
            "zerolinecolor": "white"
           },
           "yaxis": {
            "backgroundcolor": "#E5ECF6",
            "gridcolor": "white",
            "gridwidth": 2,
            "linecolor": "white",
            "showbackground": true,
            "ticks": "",
            "zerolinecolor": "white"
           },
           "zaxis": {
            "backgroundcolor": "#E5ECF6",
            "gridcolor": "white",
            "gridwidth": 2,
            "linecolor": "white",
            "showbackground": true,
            "ticks": "",
            "zerolinecolor": "white"
           }
          },
          "shapedefaults": {
           "line": {
            "color": "#2a3f5f"
           }
          },
          "ternary": {
           "aaxis": {
            "gridcolor": "white",
            "linecolor": "white",
            "ticks": ""
           },
           "baxis": {
            "gridcolor": "white",
            "linecolor": "white",
            "ticks": ""
           },
           "bgcolor": "#E5ECF6",
           "caxis": {
            "gridcolor": "white",
            "linecolor": "white",
            "ticks": ""
           }
          },
          "title": {
           "x": 0.05
          },
          "xaxis": {
           "automargin": true,
           "gridcolor": "white",
           "linecolor": "white",
           "ticks": "",
           "title": {
            "standoff": 15
           },
           "zerolinecolor": "white",
           "zerolinewidth": 2
          },
          "yaxis": {
           "automargin": true,
           "gridcolor": "white",
           "linecolor": "white",
           "ticks": "",
           "title": {
            "standoff": 15
           },
           "zerolinecolor": "white",
           "zerolinewidth": 2
          }
         }
        },
        "title": {
         "text": "Channel wise Subscribers"
        },
        "xaxis": {
         "anchor": "y",
         "categoryarray": [
          "Ken's Nearest Neighbors Podcast",
          "Ken Jee",
          "Thu Vu",
          "techTFQ",
          "Study with Tina",
          "Luke Barousse",
          "Rishabh Mishra",
          "CampusX",
          "Krish Naik",
          "freeCodeCamp Español"
         ],
         "categoryorder": "array",
         "domain": [
          0,
          1
         ],
         "title": {
          "text": "Channel_Name"
         }
        },
        "yaxis": {
         "anchor": "x",
         "domain": [
          0,
          1
         ],
         "title": {
          "text": "subscribers"
         }
        }
       }
      }
     },
     "metadata": {},
     "output_type": "display_data"
    }
   ],
   "source": [
    "import plotly.express as px\n",
    "fig = px.bar(channel_data, x='Channel_Name', y='subscribers', title=\"Channel wise Subscribers\",color = 'Channel_Name', color_discrete_sequence=px.colors.qualitative.Set3)\n",
    "fig.show()"
   ]
  },
  {
   "cell_type": "code",
   "execution_count": 266,
   "metadata": {},
   "outputs": [
    {
     "data": {
      "application/vnd.plotly.v1+json": {
       "config": {
        "plotlyServerURL": "https://plot.ly"
       },
       "data": [
        {
         "alignmentgroup": "True",
         "hovertemplate": "views=%{y}<br>Channel_Name=%{x}<extra></extra>",
         "legendgroup": "617753",
         "marker": {
          "color": "rgb(141,211,199)",
          "pattern": {
           "shape": ""
          }
         },
         "name": "617753",
         "offsetgroup": "617753",
         "orientation": "v",
         "showlegend": true,
         "textposition": "auto",
         "type": "bar",
         "x": [
          "Ken's Nearest Neighbors Podcast"
         ],
         "xaxis": "x",
         "y": [
          "617753"
         ],
         "yaxis": "y"
        },
        {
         "alignmentgroup": "True",
         "hovertemplate": "views=%{y}<br>Channel_Name=%{x}<extra></extra>",
         "legendgroup": "9301298",
         "marker": {
          "color": "rgb(255,255,179)",
          "pattern": {
           "shape": ""
          }
         },
         "name": "9301298",
         "offsetgroup": "9301298",
         "orientation": "v",
         "showlegend": true,
         "textposition": "auto",
         "type": "bar",
         "x": [
          "Ken Jee"
         ],
         "xaxis": "x",
         "y": [
          "9301298"
         ],
         "yaxis": "y"
        },
        {
         "alignmentgroup": "True",
         "hovertemplate": "views=%{y}<br>Channel_Name=%{x}<extra></extra>",
         "legendgroup": "9910042",
         "marker": {
          "color": "rgb(190,186,218)",
          "pattern": {
           "shape": ""
          }
         },
         "name": "9910042",
         "offsetgroup": "9910042",
         "orientation": "v",
         "showlegend": true,
         "textposition": "auto",
         "type": "bar",
         "x": [
          "Thu Vu"
         ],
         "xaxis": "x",
         "y": [
          "9910042"
         ],
         "yaxis": "y"
        },
        {
         "alignmentgroup": "True",
         "hovertemplate": "views=%{y}<br>Channel_Name=%{x}<extra></extra>",
         "legendgroup": "19979654",
         "marker": {
          "color": "rgb(251,128,114)",
          "pattern": {
           "shape": ""
          }
         },
         "name": "19979654",
         "offsetgroup": "19979654",
         "orientation": "v",
         "showlegend": true,
         "textposition": "auto",
         "type": "bar",
         "x": [
          "techTFQ"
         ],
         "xaxis": "x",
         "y": [
          "19979654"
         ],
         "yaxis": "y"
        },
        {
         "alignmentgroup": "True",
         "hovertemplate": "views=%{y}<br>Channel_Name=%{x}<extra></extra>",
         "legendgroup": "321548",
         "marker": {
          "color": "rgb(128,177,211)",
          "pattern": {
           "shape": ""
          }
         },
         "name": "321548",
         "offsetgroup": "321548",
         "orientation": "v",
         "showlegend": true,
         "textposition": "auto",
         "type": "bar",
         "x": [
          "Study with Tina"
         ],
         "xaxis": "x",
         "y": [
          "321548"
         ],
         "yaxis": "y"
        },
        {
         "alignmentgroup": "True",
         "hovertemplate": "views=%{y}<br>Channel_Name=%{x}<extra></extra>",
         "legendgroup": "24722712",
         "marker": {
          "color": "rgb(253,180,98)",
          "pattern": {
           "shape": ""
          }
         },
         "name": "24722712",
         "offsetgroup": "24722712",
         "orientation": "v",
         "showlegend": true,
         "textposition": "auto",
         "type": "bar",
         "x": [
          "Luke Barousse"
         ],
         "xaxis": "x",
         "y": [
          "24722712"
         ],
         "yaxis": "y"
        },
        {
         "alignmentgroup": "True",
         "hovertemplate": "views=%{y}<br>Channel_Name=%{x}<extra></extra>",
         "legendgroup": "25658995",
         "marker": {
          "color": "rgb(179,222,105)",
          "pattern": {
           "shape": ""
          }
         },
         "name": "25658995",
         "offsetgroup": "25658995",
         "orientation": "v",
         "showlegend": true,
         "textposition": "auto",
         "type": "bar",
         "x": [
          "Rishabh Mishra"
         ],
         "xaxis": "x",
         "y": [
          "25658995"
         ],
         "yaxis": "y"
        },
        {
         "alignmentgroup": "True",
         "hovertemplate": "views=%{y}<br>Channel_Name=%{x}<extra></extra>",
         "legendgroup": "32934054",
         "marker": {
          "color": "rgb(252,205,229)",
          "pattern": {
           "shape": ""
          }
         },
         "name": "32934054",
         "offsetgroup": "32934054",
         "orientation": "v",
         "showlegend": true,
         "textposition": "auto",
         "type": "bar",
         "x": [
          "CampusX"
         ],
         "xaxis": "x",
         "y": [
          "32934054"
         ],
         "yaxis": "y"
        },
        {
         "alignmentgroup": "True",
         "hovertemplate": "views=%{y}<br>Channel_Name=%{x}<extra></extra>",
         "legendgroup": "111789502",
         "marker": {
          "color": "rgb(217,217,217)",
          "pattern": {
           "shape": ""
          }
         },
         "name": "111789502",
         "offsetgroup": "111789502",
         "orientation": "v",
         "showlegend": true,
         "textposition": "auto",
         "type": "bar",
         "x": [
          "Krish Naik"
         ],
         "xaxis": "x",
         "y": [
          "111789502"
         ],
         "yaxis": "y"
        },
        {
         "alignmentgroup": "True",
         "hovertemplate": "views=%{y}<br>Channel_Name=%{x}<extra></extra>",
         "legendgroup": "10099504",
         "marker": {
          "color": "rgb(188,128,189)",
          "pattern": {
           "shape": ""
          }
         },
         "name": "10099504",
         "offsetgroup": "10099504",
         "orientation": "v",
         "showlegend": true,
         "textposition": "auto",
         "type": "bar",
         "x": [
          "freeCodeCamp Español"
         ],
         "xaxis": "x",
         "y": [
          "10099504"
         ],
         "yaxis": "y"
        }
       ],
       "layout": {
        "barmode": "relative",
        "legend": {
         "title": {
          "text": "views"
         },
         "tracegroupgap": 0
        },
        "template": {
         "data": {
          "bar": [
           {
            "error_x": {
             "color": "#2a3f5f"
            },
            "error_y": {
             "color": "#2a3f5f"
            },
            "marker": {
             "line": {
              "color": "#E5ECF6",
              "width": 0.5
             },
             "pattern": {
              "fillmode": "overlay",
              "size": 10,
              "solidity": 0.2
             }
            },
            "type": "bar"
           }
          ],
          "barpolar": [
           {
            "marker": {
             "line": {
              "color": "#E5ECF6",
              "width": 0.5
             },
             "pattern": {
              "fillmode": "overlay",
              "size": 10,
              "solidity": 0.2
             }
            },
            "type": "barpolar"
           }
          ],
          "carpet": [
           {
            "aaxis": {
             "endlinecolor": "#2a3f5f",
             "gridcolor": "white",
             "linecolor": "white",
             "minorgridcolor": "white",
             "startlinecolor": "#2a3f5f"
            },
            "baxis": {
             "endlinecolor": "#2a3f5f",
             "gridcolor": "white",
             "linecolor": "white",
             "minorgridcolor": "white",
             "startlinecolor": "#2a3f5f"
            },
            "type": "carpet"
           }
          ],
          "choropleth": [
           {
            "colorbar": {
             "outlinewidth": 0,
             "ticks": ""
            },
            "type": "choropleth"
           }
          ],
          "contour": [
           {
            "colorbar": {
             "outlinewidth": 0,
             "ticks": ""
            },
            "colorscale": [
             [
              0,
              "#0d0887"
             ],
             [
              0.1111111111111111,
              "#46039f"
             ],
             [
              0.2222222222222222,
              "#7201a8"
             ],
             [
              0.3333333333333333,
              "#9c179e"
             ],
             [
              0.4444444444444444,
              "#bd3786"
             ],
             [
              0.5555555555555556,
              "#d8576b"
             ],
             [
              0.6666666666666666,
              "#ed7953"
             ],
             [
              0.7777777777777778,
              "#fb9f3a"
             ],
             [
              0.8888888888888888,
              "#fdca26"
             ],
             [
              1,
              "#f0f921"
             ]
            ],
            "type": "contour"
           }
          ],
          "contourcarpet": [
           {
            "colorbar": {
             "outlinewidth": 0,
             "ticks": ""
            },
            "type": "contourcarpet"
           }
          ],
          "heatmap": [
           {
            "colorbar": {
             "outlinewidth": 0,
             "ticks": ""
            },
            "colorscale": [
             [
              0,
              "#0d0887"
             ],
             [
              0.1111111111111111,
              "#46039f"
             ],
             [
              0.2222222222222222,
              "#7201a8"
             ],
             [
              0.3333333333333333,
              "#9c179e"
             ],
             [
              0.4444444444444444,
              "#bd3786"
             ],
             [
              0.5555555555555556,
              "#d8576b"
             ],
             [
              0.6666666666666666,
              "#ed7953"
             ],
             [
              0.7777777777777778,
              "#fb9f3a"
             ],
             [
              0.8888888888888888,
              "#fdca26"
             ],
             [
              1,
              "#f0f921"
             ]
            ],
            "type": "heatmap"
           }
          ],
          "heatmapgl": [
           {
            "colorbar": {
             "outlinewidth": 0,
             "ticks": ""
            },
            "colorscale": [
             [
              0,
              "#0d0887"
             ],
             [
              0.1111111111111111,
              "#46039f"
             ],
             [
              0.2222222222222222,
              "#7201a8"
             ],
             [
              0.3333333333333333,
              "#9c179e"
             ],
             [
              0.4444444444444444,
              "#bd3786"
             ],
             [
              0.5555555555555556,
              "#d8576b"
             ],
             [
              0.6666666666666666,
              "#ed7953"
             ],
             [
              0.7777777777777778,
              "#fb9f3a"
             ],
             [
              0.8888888888888888,
              "#fdca26"
             ],
             [
              1,
              "#f0f921"
             ]
            ],
            "type": "heatmapgl"
           }
          ],
          "histogram": [
           {
            "marker": {
             "pattern": {
              "fillmode": "overlay",
              "size": 10,
              "solidity": 0.2
             }
            },
            "type": "histogram"
           }
          ],
          "histogram2d": [
           {
            "colorbar": {
             "outlinewidth": 0,
             "ticks": ""
            },
            "colorscale": [
             [
              0,
              "#0d0887"
             ],
             [
              0.1111111111111111,
              "#46039f"
             ],
             [
              0.2222222222222222,
              "#7201a8"
             ],
             [
              0.3333333333333333,
              "#9c179e"
             ],
             [
              0.4444444444444444,
              "#bd3786"
             ],
             [
              0.5555555555555556,
              "#d8576b"
             ],
             [
              0.6666666666666666,
              "#ed7953"
             ],
             [
              0.7777777777777778,
              "#fb9f3a"
             ],
             [
              0.8888888888888888,
              "#fdca26"
             ],
             [
              1,
              "#f0f921"
             ]
            ],
            "type": "histogram2d"
           }
          ],
          "histogram2dcontour": [
           {
            "colorbar": {
             "outlinewidth": 0,
             "ticks": ""
            },
            "colorscale": [
             [
              0,
              "#0d0887"
             ],
             [
              0.1111111111111111,
              "#46039f"
             ],
             [
              0.2222222222222222,
              "#7201a8"
             ],
             [
              0.3333333333333333,
              "#9c179e"
             ],
             [
              0.4444444444444444,
              "#bd3786"
             ],
             [
              0.5555555555555556,
              "#d8576b"
             ],
             [
              0.6666666666666666,
              "#ed7953"
             ],
             [
              0.7777777777777778,
              "#fb9f3a"
             ],
             [
              0.8888888888888888,
              "#fdca26"
             ],
             [
              1,
              "#f0f921"
             ]
            ],
            "type": "histogram2dcontour"
           }
          ],
          "mesh3d": [
           {
            "colorbar": {
             "outlinewidth": 0,
             "ticks": ""
            },
            "type": "mesh3d"
           }
          ],
          "parcoords": [
           {
            "line": {
             "colorbar": {
              "outlinewidth": 0,
              "ticks": ""
             }
            },
            "type": "parcoords"
           }
          ],
          "pie": [
           {
            "automargin": true,
            "type": "pie"
           }
          ],
          "scatter": [
           {
            "fillpattern": {
             "fillmode": "overlay",
             "size": 10,
             "solidity": 0.2
            },
            "type": "scatter"
           }
          ],
          "scatter3d": [
           {
            "line": {
             "colorbar": {
              "outlinewidth": 0,
              "ticks": ""
             }
            },
            "marker": {
             "colorbar": {
              "outlinewidth": 0,
              "ticks": ""
             }
            },
            "type": "scatter3d"
           }
          ],
          "scattercarpet": [
           {
            "marker": {
             "colorbar": {
              "outlinewidth": 0,
              "ticks": ""
             }
            },
            "type": "scattercarpet"
           }
          ],
          "scattergeo": [
           {
            "marker": {
             "colorbar": {
              "outlinewidth": 0,
              "ticks": ""
             }
            },
            "type": "scattergeo"
           }
          ],
          "scattergl": [
           {
            "marker": {
             "colorbar": {
              "outlinewidth": 0,
              "ticks": ""
             }
            },
            "type": "scattergl"
           }
          ],
          "scattermapbox": [
           {
            "marker": {
             "colorbar": {
              "outlinewidth": 0,
              "ticks": ""
             }
            },
            "type": "scattermapbox"
           }
          ],
          "scatterpolar": [
           {
            "marker": {
             "colorbar": {
              "outlinewidth": 0,
              "ticks": ""
             }
            },
            "type": "scatterpolar"
           }
          ],
          "scatterpolargl": [
           {
            "marker": {
             "colorbar": {
              "outlinewidth": 0,
              "ticks": ""
             }
            },
            "type": "scatterpolargl"
           }
          ],
          "scatterternary": [
           {
            "marker": {
             "colorbar": {
              "outlinewidth": 0,
              "ticks": ""
             }
            },
            "type": "scatterternary"
           }
          ],
          "surface": [
           {
            "colorbar": {
             "outlinewidth": 0,
             "ticks": ""
            },
            "colorscale": [
             [
              0,
              "#0d0887"
             ],
             [
              0.1111111111111111,
              "#46039f"
             ],
             [
              0.2222222222222222,
              "#7201a8"
             ],
             [
              0.3333333333333333,
              "#9c179e"
             ],
             [
              0.4444444444444444,
              "#bd3786"
             ],
             [
              0.5555555555555556,
              "#d8576b"
             ],
             [
              0.6666666666666666,
              "#ed7953"
             ],
             [
              0.7777777777777778,
              "#fb9f3a"
             ],
             [
              0.8888888888888888,
              "#fdca26"
             ],
             [
              1,
              "#f0f921"
             ]
            ],
            "type": "surface"
           }
          ],
          "table": [
           {
            "cells": {
             "fill": {
              "color": "#EBF0F8"
             },
             "line": {
              "color": "white"
             }
            },
            "header": {
             "fill": {
              "color": "#C8D4E3"
             },
             "line": {
              "color": "white"
             }
            },
            "type": "table"
           }
          ]
         },
         "layout": {
          "annotationdefaults": {
           "arrowcolor": "#2a3f5f",
           "arrowhead": 0,
           "arrowwidth": 1
          },
          "autotypenumbers": "strict",
          "coloraxis": {
           "colorbar": {
            "outlinewidth": 0,
            "ticks": ""
           }
          },
          "colorscale": {
           "diverging": [
            [
             0,
             "#8e0152"
            ],
            [
             0.1,
             "#c51b7d"
            ],
            [
             0.2,
             "#de77ae"
            ],
            [
             0.3,
             "#f1b6da"
            ],
            [
             0.4,
             "#fde0ef"
            ],
            [
             0.5,
             "#f7f7f7"
            ],
            [
             0.6,
             "#e6f5d0"
            ],
            [
             0.7,
             "#b8e186"
            ],
            [
             0.8,
             "#7fbc41"
            ],
            [
             0.9,
             "#4d9221"
            ],
            [
             1,
             "#276419"
            ]
           ],
           "sequential": [
            [
             0,
             "#0d0887"
            ],
            [
             0.1111111111111111,
             "#46039f"
            ],
            [
             0.2222222222222222,
             "#7201a8"
            ],
            [
             0.3333333333333333,
             "#9c179e"
            ],
            [
             0.4444444444444444,
             "#bd3786"
            ],
            [
             0.5555555555555556,
             "#d8576b"
            ],
            [
             0.6666666666666666,
             "#ed7953"
            ],
            [
             0.7777777777777778,
             "#fb9f3a"
            ],
            [
             0.8888888888888888,
             "#fdca26"
            ],
            [
             1,
             "#f0f921"
            ]
           ],
           "sequentialminus": [
            [
             0,
             "#0d0887"
            ],
            [
             0.1111111111111111,
             "#46039f"
            ],
            [
             0.2222222222222222,
             "#7201a8"
            ],
            [
             0.3333333333333333,
             "#9c179e"
            ],
            [
             0.4444444444444444,
             "#bd3786"
            ],
            [
             0.5555555555555556,
             "#d8576b"
            ],
            [
             0.6666666666666666,
             "#ed7953"
            ],
            [
             0.7777777777777778,
             "#fb9f3a"
            ],
            [
             0.8888888888888888,
             "#fdca26"
            ],
            [
             1,
             "#f0f921"
            ]
           ]
          },
          "colorway": [
           "#636efa",
           "#EF553B",
           "#00cc96",
           "#ab63fa",
           "#FFA15A",
           "#19d3f3",
           "#FF6692",
           "#B6E880",
           "#FF97FF",
           "#FECB52"
          ],
          "font": {
           "color": "#2a3f5f"
          },
          "geo": {
           "bgcolor": "white",
           "lakecolor": "white",
           "landcolor": "#E5ECF6",
           "showlakes": true,
           "showland": true,
           "subunitcolor": "white"
          },
          "hoverlabel": {
           "align": "left"
          },
          "hovermode": "closest",
          "mapbox": {
           "style": "light"
          },
          "paper_bgcolor": "white",
          "plot_bgcolor": "#E5ECF6",
          "polar": {
           "angularaxis": {
            "gridcolor": "white",
            "linecolor": "white",
            "ticks": ""
           },
           "bgcolor": "#E5ECF6",
           "radialaxis": {
            "gridcolor": "white",
            "linecolor": "white",
            "ticks": ""
           }
          },
          "scene": {
           "xaxis": {
            "backgroundcolor": "#E5ECF6",
            "gridcolor": "white",
            "gridwidth": 2,
            "linecolor": "white",
            "showbackground": true,
            "ticks": "",
            "zerolinecolor": "white"
           },
           "yaxis": {
            "backgroundcolor": "#E5ECF6",
            "gridcolor": "white",
            "gridwidth": 2,
            "linecolor": "white",
            "showbackground": true,
            "ticks": "",
            "zerolinecolor": "white"
           },
           "zaxis": {
            "backgroundcolor": "#E5ECF6",
            "gridcolor": "white",
            "gridwidth": 2,
            "linecolor": "white",
            "showbackground": true,
            "ticks": "",
            "zerolinecolor": "white"
           }
          },
          "shapedefaults": {
           "line": {
            "color": "#2a3f5f"
           }
          },
          "ternary": {
           "aaxis": {
            "gridcolor": "white",
            "linecolor": "white",
            "ticks": ""
           },
           "baxis": {
            "gridcolor": "white",
            "linecolor": "white",
            "ticks": ""
           },
           "bgcolor": "#E5ECF6",
           "caxis": {
            "gridcolor": "white",
            "linecolor": "white",
            "ticks": ""
           }
          },
          "title": {
           "x": 0.05
          },
          "xaxis": {
           "automargin": true,
           "gridcolor": "white",
           "linecolor": "white",
           "ticks": "",
           "title": {
            "standoff": 15
           },
           "zerolinecolor": "white",
           "zerolinewidth": 2
          },
          "yaxis": {
           "automargin": true,
           "gridcolor": "white",
           "linecolor": "white",
           "ticks": "",
           "title": {
            "standoff": 15
           },
           "zerolinecolor": "white",
           "zerolinewidth": 2
          }
         }
        },
        "title": {
         "text": "Channel wise Views"
        },
        "xaxis": {
         "anchor": "y",
         "domain": [
          0,
          1
         ],
         "title": {
          "text": "Channel_Name"
         }
        },
        "yaxis": {
         "anchor": "x",
         "categoryarray": [
          "10099504",
          "111789502",
          "32934054",
          "25658995",
          "24722712",
          "321548",
          "19979654",
          "9910042",
          "9301298",
          "617753"
         ],
         "categoryorder": "array",
         "domain": [
          0,
          1
         ],
         "title": {
          "text": "views"
         }
        }
       }
      }
     },
     "metadata": {},
     "output_type": "display_data"
    }
   ],
   "source": [
    "fig = px.bar(channel_data, x='Channel_Name', y='views', title=\"Channel wise Views\",color = 'views', color_discrete_sequence=px.colors.qualitative.Set3)\n",
    "fig.show()"
   ]
  },
  {
   "cell_type": "code",
   "execution_count": 265,
   "metadata": {},
   "outputs": [
    {
     "data": {
      "application/vnd.plotly.v1+json": {
       "config": {
        "plotlyServerURL": "https://plot.ly"
       },
       "data": [
        {
         "alignmentgroup": "True",
         "hovertemplate": "Channel_Name=%{x}<br>Total_videos=%{y}<extra></extra>",
         "legendgroup": "Ken's Nearest Neighbors Podcast",
         "marker": {
          "color": "rgb(141,211,199)",
          "pattern": {
           "shape": ""
          }
         },
         "name": "Ken's Nearest Neighbors Podcast",
         "offsetgroup": "Ken's Nearest Neighbors Podcast",
         "orientation": "v",
         "showlegend": true,
         "textposition": "auto",
         "type": "bar",
         "x": [
          "Ken's Nearest Neighbors Podcast"
         ],
         "xaxis": "x",
         "y": [
          "424"
         ],
         "yaxis": "y"
        },
        {
         "alignmentgroup": "True",
         "hovertemplate": "Channel_Name=%{x}<br>Total_videos=%{y}<extra></extra>",
         "legendgroup": "Ken Jee",
         "marker": {
          "color": "rgb(255,255,179)",
          "pattern": {
           "shape": ""
          }
         },
         "name": "Ken Jee",
         "offsetgroup": "Ken Jee",
         "orientation": "v",
         "showlegend": true,
         "textposition": "auto",
         "type": "bar",
         "x": [
          "Ken Jee"
         ],
         "xaxis": "x",
         "y": [
          "288"
         ],
         "yaxis": "y"
        },
        {
         "alignmentgroup": "True",
         "hovertemplate": "Channel_Name=%{x}<br>Total_videos=%{y}<extra></extra>",
         "legendgroup": "Thu Vu",
         "marker": {
          "color": "rgb(190,186,218)",
          "pattern": {
           "shape": ""
          }
         },
         "name": "Thu Vu",
         "offsetgroup": "Thu Vu",
         "orientation": "v",
         "showlegend": true,
         "textposition": "auto",
         "type": "bar",
         "x": [
          "Thu Vu"
         ],
         "xaxis": "x",
         "y": [
          "90"
         ],
         "yaxis": "y"
        },
        {
         "alignmentgroup": "True",
         "hovertemplate": "Channel_Name=%{x}<br>Total_videos=%{y}<extra></extra>",
         "legendgroup": "techTFQ",
         "marker": {
          "color": "rgb(251,128,114)",
          "pattern": {
           "shape": ""
          }
         },
         "name": "techTFQ",
         "offsetgroup": "techTFQ",
         "orientation": "v",
         "showlegend": true,
         "textposition": "auto",
         "type": "bar",
         "x": [
          "techTFQ"
         ],
         "xaxis": "x",
         "y": [
          "139"
         ],
         "yaxis": "y"
        },
        {
         "alignmentgroup": "True",
         "hovertemplate": "Channel_Name=%{x}<br>Total_videos=%{y}<extra></extra>",
         "legendgroup": "Study with Tina",
         "marker": {
          "color": "rgb(128,177,211)",
          "pattern": {
           "shape": ""
          }
         },
         "name": "Study with Tina",
         "offsetgroup": "Study with Tina",
         "orientation": "v",
         "showlegend": true,
         "textposition": "auto",
         "type": "bar",
         "x": [
          "Study with Tina"
         ],
         "xaxis": "x",
         "y": [
          "302"
         ],
         "yaxis": "y"
        },
        {
         "alignmentgroup": "True",
         "hovertemplate": "Channel_Name=%{x}<br>Total_videos=%{y}<extra></extra>",
         "legendgroup": "Luke Barousse",
         "marker": {
          "color": "rgb(253,180,98)",
          "pattern": {
           "shape": ""
          }
         },
         "name": "Luke Barousse",
         "offsetgroup": "Luke Barousse",
         "orientation": "v",
         "showlegend": true,
         "textposition": "auto",
         "type": "bar",
         "x": [
          "Luke Barousse"
         ],
         "xaxis": "x",
         "y": [
          "163"
         ],
         "yaxis": "y"
        },
        {
         "alignmentgroup": "True",
         "hovertemplate": "Channel_Name=%{x}<br>Total_videos=%{y}<extra></extra>",
         "legendgroup": "Rishabh Mishra",
         "marker": {
          "color": "rgb(179,222,105)",
          "pattern": {
           "shape": ""
          }
         },
         "name": "Rishabh Mishra",
         "offsetgroup": "Rishabh Mishra",
         "orientation": "v",
         "showlegend": true,
         "textposition": "auto",
         "type": "bar",
         "x": [
          "Rishabh Mishra"
         ],
         "xaxis": "x",
         "y": [
          "120"
         ],
         "yaxis": "y"
        },
        {
         "alignmentgroup": "True",
         "hovertemplate": "Channel_Name=%{x}<br>Total_videos=%{y}<extra></extra>",
         "legendgroup": "CampusX",
         "marker": {
          "color": "rgb(252,205,229)",
          "pattern": {
           "shape": ""
          }
         },
         "name": "CampusX",
         "offsetgroup": "CampusX",
         "orientation": "v",
         "showlegend": true,
         "textposition": "auto",
         "type": "bar",
         "x": [
          "CampusX"
         ],
         "xaxis": "x",
         "y": [
          "1213"
         ],
         "yaxis": "y"
        },
        {
         "alignmentgroup": "True",
         "hovertemplate": "Channel_Name=%{x}<br>Total_videos=%{y}<extra></extra>",
         "legendgroup": "Krish Naik",
         "marker": {
          "color": "rgb(217,217,217)",
          "pattern": {
           "shape": ""
          }
         },
         "name": "Krish Naik",
         "offsetgroup": "Krish Naik",
         "orientation": "v",
         "showlegend": true,
         "textposition": "auto",
         "type": "bar",
         "x": [
          "Krish Naik"
         ],
         "xaxis": "x",
         "y": [
          "1982"
         ],
         "yaxis": "y"
        },
        {
         "alignmentgroup": "True",
         "hovertemplate": "Channel_Name=%{x}<br>Total_videos=%{y}<extra></extra>",
         "legendgroup": "freeCodeCamp Español",
         "marker": {
          "color": "rgb(188,128,189)",
          "pattern": {
           "shape": ""
          }
         },
         "name": "freeCodeCamp Español",
         "offsetgroup": "freeCodeCamp Español",
         "orientation": "v",
         "showlegend": true,
         "textposition": "auto",
         "type": "bar",
         "x": [
          "freeCodeCamp Español"
         ],
         "xaxis": "x",
         "y": [
          "158"
         ],
         "yaxis": "y"
        }
       ],
       "layout": {
        "barmode": "relative",
        "legend": {
         "title": {
          "text": "Channel_Name"
         },
         "tracegroupgap": 0
        },
        "template": {
         "data": {
          "bar": [
           {
            "error_x": {
             "color": "#2a3f5f"
            },
            "error_y": {
             "color": "#2a3f5f"
            },
            "marker": {
             "line": {
              "color": "#E5ECF6",
              "width": 0.5
             },
             "pattern": {
              "fillmode": "overlay",
              "size": 10,
              "solidity": 0.2
             }
            },
            "type": "bar"
           }
          ],
          "barpolar": [
           {
            "marker": {
             "line": {
              "color": "#E5ECF6",
              "width": 0.5
             },
             "pattern": {
              "fillmode": "overlay",
              "size": 10,
              "solidity": 0.2
             }
            },
            "type": "barpolar"
           }
          ],
          "carpet": [
           {
            "aaxis": {
             "endlinecolor": "#2a3f5f",
             "gridcolor": "white",
             "linecolor": "white",
             "minorgridcolor": "white",
             "startlinecolor": "#2a3f5f"
            },
            "baxis": {
             "endlinecolor": "#2a3f5f",
             "gridcolor": "white",
             "linecolor": "white",
             "minorgridcolor": "white",
             "startlinecolor": "#2a3f5f"
            },
            "type": "carpet"
           }
          ],
          "choropleth": [
           {
            "colorbar": {
             "outlinewidth": 0,
             "ticks": ""
            },
            "type": "choropleth"
           }
          ],
          "contour": [
           {
            "colorbar": {
             "outlinewidth": 0,
             "ticks": ""
            },
            "colorscale": [
             [
              0,
              "#0d0887"
             ],
             [
              0.1111111111111111,
              "#46039f"
             ],
             [
              0.2222222222222222,
              "#7201a8"
             ],
             [
              0.3333333333333333,
              "#9c179e"
             ],
             [
              0.4444444444444444,
              "#bd3786"
             ],
             [
              0.5555555555555556,
              "#d8576b"
             ],
             [
              0.6666666666666666,
              "#ed7953"
             ],
             [
              0.7777777777777778,
              "#fb9f3a"
             ],
             [
              0.8888888888888888,
              "#fdca26"
             ],
             [
              1,
              "#f0f921"
             ]
            ],
            "type": "contour"
           }
          ],
          "contourcarpet": [
           {
            "colorbar": {
             "outlinewidth": 0,
             "ticks": ""
            },
            "type": "contourcarpet"
           }
          ],
          "heatmap": [
           {
            "colorbar": {
             "outlinewidth": 0,
             "ticks": ""
            },
            "colorscale": [
             [
              0,
              "#0d0887"
             ],
             [
              0.1111111111111111,
              "#46039f"
             ],
             [
              0.2222222222222222,
              "#7201a8"
             ],
             [
              0.3333333333333333,
              "#9c179e"
             ],
             [
              0.4444444444444444,
              "#bd3786"
             ],
             [
              0.5555555555555556,
              "#d8576b"
             ],
             [
              0.6666666666666666,
              "#ed7953"
             ],
             [
              0.7777777777777778,
              "#fb9f3a"
             ],
             [
              0.8888888888888888,
              "#fdca26"
             ],
             [
              1,
              "#f0f921"
             ]
            ],
            "type": "heatmap"
           }
          ],
          "heatmapgl": [
           {
            "colorbar": {
             "outlinewidth": 0,
             "ticks": ""
            },
            "colorscale": [
             [
              0,
              "#0d0887"
             ],
             [
              0.1111111111111111,
              "#46039f"
             ],
             [
              0.2222222222222222,
              "#7201a8"
             ],
             [
              0.3333333333333333,
              "#9c179e"
             ],
             [
              0.4444444444444444,
              "#bd3786"
             ],
             [
              0.5555555555555556,
              "#d8576b"
             ],
             [
              0.6666666666666666,
              "#ed7953"
             ],
             [
              0.7777777777777778,
              "#fb9f3a"
             ],
             [
              0.8888888888888888,
              "#fdca26"
             ],
             [
              1,
              "#f0f921"
             ]
            ],
            "type": "heatmapgl"
           }
          ],
          "histogram": [
           {
            "marker": {
             "pattern": {
              "fillmode": "overlay",
              "size": 10,
              "solidity": 0.2
             }
            },
            "type": "histogram"
           }
          ],
          "histogram2d": [
           {
            "colorbar": {
             "outlinewidth": 0,
             "ticks": ""
            },
            "colorscale": [
             [
              0,
              "#0d0887"
             ],
             [
              0.1111111111111111,
              "#46039f"
             ],
             [
              0.2222222222222222,
              "#7201a8"
             ],
             [
              0.3333333333333333,
              "#9c179e"
             ],
             [
              0.4444444444444444,
              "#bd3786"
             ],
             [
              0.5555555555555556,
              "#d8576b"
             ],
             [
              0.6666666666666666,
              "#ed7953"
             ],
             [
              0.7777777777777778,
              "#fb9f3a"
             ],
             [
              0.8888888888888888,
              "#fdca26"
             ],
             [
              1,
              "#f0f921"
             ]
            ],
            "type": "histogram2d"
           }
          ],
          "histogram2dcontour": [
           {
            "colorbar": {
             "outlinewidth": 0,
             "ticks": ""
            },
            "colorscale": [
             [
              0,
              "#0d0887"
             ],
             [
              0.1111111111111111,
              "#46039f"
             ],
             [
              0.2222222222222222,
              "#7201a8"
             ],
             [
              0.3333333333333333,
              "#9c179e"
             ],
             [
              0.4444444444444444,
              "#bd3786"
             ],
             [
              0.5555555555555556,
              "#d8576b"
             ],
             [
              0.6666666666666666,
              "#ed7953"
             ],
             [
              0.7777777777777778,
              "#fb9f3a"
             ],
             [
              0.8888888888888888,
              "#fdca26"
             ],
             [
              1,
              "#f0f921"
             ]
            ],
            "type": "histogram2dcontour"
           }
          ],
          "mesh3d": [
           {
            "colorbar": {
             "outlinewidth": 0,
             "ticks": ""
            },
            "type": "mesh3d"
           }
          ],
          "parcoords": [
           {
            "line": {
             "colorbar": {
              "outlinewidth": 0,
              "ticks": ""
             }
            },
            "type": "parcoords"
           }
          ],
          "pie": [
           {
            "automargin": true,
            "type": "pie"
           }
          ],
          "scatter": [
           {
            "fillpattern": {
             "fillmode": "overlay",
             "size": 10,
             "solidity": 0.2
            },
            "type": "scatter"
           }
          ],
          "scatter3d": [
           {
            "line": {
             "colorbar": {
              "outlinewidth": 0,
              "ticks": ""
             }
            },
            "marker": {
             "colorbar": {
              "outlinewidth": 0,
              "ticks": ""
             }
            },
            "type": "scatter3d"
           }
          ],
          "scattercarpet": [
           {
            "marker": {
             "colorbar": {
              "outlinewidth": 0,
              "ticks": ""
             }
            },
            "type": "scattercarpet"
           }
          ],
          "scattergeo": [
           {
            "marker": {
             "colorbar": {
              "outlinewidth": 0,
              "ticks": ""
             }
            },
            "type": "scattergeo"
           }
          ],
          "scattergl": [
           {
            "marker": {
             "colorbar": {
              "outlinewidth": 0,
              "ticks": ""
             }
            },
            "type": "scattergl"
           }
          ],
          "scattermapbox": [
           {
            "marker": {
             "colorbar": {
              "outlinewidth": 0,
              "ticks": ""
             }
            },
            "type": "scattermapbox"
           }
          ],
          "scatterpolar": [
           {
            "marker": {
             "colorbar": {
              "outlinewidth": 0,
              "ticks": ""
             }
            },
            "type": "scatterpolar"
           }
          ],
          "scatterpolargl": [
           {
            "marker": {
             "colorbar": {
              "outlinewidth": 0,
              "ticks": ""
             }
            },
            "type": "scatterpolargl"
           }
          ],
          "scatterternary": [
           {
            "marker": {
             "colorbar": {
              "outlinewidth": 0,
              "ticks": ""
             }
            },
            "type": "scatterternary"
           }
          ],
          "surface": [
           {
            "colorbar": {
             "outlinewidth": 0,
             "ticks": ""
            },
            "colorscale": [
             [
              0,
              "#0d0887"
             ],
             [
              0.1111111111111111,
              "#46039f"
             ],
             [
              0.2222222222222222,
              "#7201a8"
             ],
             [
              0.3333333333333333,
              "#9c179e"
             ],
             [
              0.4444444444444444,
              "#bd3786"
             ],
             [
              0.5555555555555556,
              "#d8576b"
             ],
             [
              0.6666666666666666,
              "#ed7953"
             ],
             [
              0.7777777777777778,
              "#fb9f3a"
             ],
             [
              0.8888888888888888,
              "#fdca26"
             ],
             [
              1,
              "#f0f921"
             ]
            ],
            "type": "surface"
           }
          ],
          "table": [
           {
            "cells": {
             "fill": {
              "color": "#EBF0F8"
             },
             "line": {
              "color": "white"
             }
            },
            "header": {
             "fill": {
              "color": "#C8D4E3"
             },
             "line": {
              "color": "white"
             }
            },
            "type": "table"
           }
          ]
         },
         "layout": {
          "annotationdefaults": {
           "arrowcolor": "#2a3f5f",
           "arrowhead": 0,
           "arrowwidth": 1
          },
          "autotypenumbers": "strict",
          "coloraxis": {
           "colorbar": {
            "outlinewidth": 0,
            "ticks": ""
           }
          },
          "colorscale": {
           "diverging": [
            [
             0,
             "#8e0152"
            ],
            [
             0.1,
             "#c51b7d"
            ],
            [
             0.2,
             "#de77ae"
            ],
            [
             0.3,
             "#f1b6da"
            ],
            [
             0.4,
             "#fde0ef"
            ],
            [
             0.5,
             "#f7f7f7"
            ],
            [
             0.6,
             "#e6f5d0"
            ],
            [
             0.7,
             "#b8e186"
            ],
            [
             0.8,
             "#7fbc41"
            ],
            [
             0.9,
             "#4d9221"
            ],
            [
             1,
             "#276419"
            ]
           ],
           "sequential": [
            [
             0,
             "#0d0887"
            ],
            [
             0.1111111111111111,
             "#46039f"
            ],
            [
             0.2222222222222222,
             "#7201a8"
            ],
            [
             0.3333333333333333,
             "#9c179e"
            ],
            [
             0.4444444444444444,
             "#bd3786"
            ],
            [
             0.5555555555555556,
             "#d8576b"
            ],
            [
             0.6666666666666666,
             "#ed7953"
            ],
            [
             0.7777777777777778,
             "#fb9f3a"
            ],
            [
             0.8888888888888888,
             "#fdca26"
            ],
            [
             1,
             "#f0f921"
            ]
           ],
           "sequentialminus": [
            [
             0,
             "#0d0887"
            ],
            [
             0.1111111111111111,
             "#46039f"
            ],
            [
             0.2222222222222222,
             "#7201a8"
            ],
            [
             0.3333333333333333,
             "#9c179e"
            ],
            [
             0.4444444444444444,
             "#bd3786"
            ],
            [
             0.5555555555555556,
             "#d8576b"
            ],
            [
             0.6666666666666666,
             "#ed7953"
            ],
            [
             0.7777777777777778,
             "#fb9f3a"
            ],
            [
             0.8888888888888888,
             "#fdca26"
            ],
            [
             1,
             "#f0f921"
            ]
           ]
          },
          "colorway": [
           "#636efa",
           "#EF553B",
           "#00cc96",
           "#ab63fa",
           "#FFA15A",
           "#19d3f3",
           "#FF6692",
           "#B6E880",
           "#FF97FF",
           "#FECB52"
          ],
          "font": {
           "color": "#2a3f5f"
          },
          "geo": {
           "bgcolor": "white",
           "lakecolor": "white",
           "landcolor": "#E5ECF6",
           "showlakes": true,
           "showland": true,
           "subunitcolor": "white"
          },
          "hoverlabel": {
           "align": "left"
          },
          "hovermode": "closest",
          "mapbox": {
           "style": "light"
          },
          "paper_bgcolor": "white",
          "plot_bgcolor": "#E5ECF6",
          "polar": {
           "angularaxis": {
            "gridcolor": "white",
            "linecolor": "white",
            "ticks": ""
           },
           "bgcolor": "#E5ECF6",
           "radialaxis": {
            "gridcolor": "white",
            "linecolor": "white",
            "ticks": ""
           }
          },
          "scene": {
           "xaxis": {
            "backgroundcolor": "#E5ECF6",
            "gridcolor": "white",
            "gridwidth": 2,
            "linecolor": "white",
            "showbackground": true,
            "ticks": "",
            "zerolinecolor": "white"
           },
           "yaxis": {
            "backgroundcolor": "#E5ECF6",
            "gridcolor": "white",
            "gridwidth": 2,
            "linecolor": "white",
            "showbackground": true,
            "ticks": "",
            "zerolinecolor": "white"
           },
           "zaxis": {
            "backgroundcolor": "#E5ECF6",
            "gridcolor": "white",
            "gridwidth": 2,
            "linecolor": "white",
            "showbackground": true,
            "ticks": "",
            "zerolinecolor": "white"
           }
          },
          "shapedefaults": {
           "line": {
            "color": "#2a3f5f"
           }
          },
          "ternary": {
           "aaxis": {
            "gridcolor": "white",
            "linecolor": "white",
            "ticks": ""
           },
           "baxis": {
            "gridcolor": "white",
            "linecolor": "white",
            "ticks": ""
           },
           "bgcolor": "#E5ECF6",
           "caxis": {
            "gridcolor": "white",
            "linecolor": "white",
            "ticks": ""
           }
          },
          "title": {
           "x": 0.05
          },
          "xaxis": {
           "automargin": true,
           "gridcolor": "white",
           "linecolor": "white",
           "ticks": "",
           "title": {
            "standoff": 15
           },
           "zerolinecolor": "white",
           "zerolinewidth": 2
          },
          "yaxis": {
           "automargin": true,
           "gridcolor": "white",
           "linecolor": "white",
           "ticks": "",
           "title": {
            "standoff": 15
           },
           "zerolinecolor": "white",
           "zerolinewidth": 2
          }
         }
        },
        "title": {
         "text": "Channel wise Videocount"
        },
        "xaxis": {
         "anchor": "y",
         "categoryarray": [
          "Ken's Nearest Neighbors Podcast",
          "Ken Jee",
          "Thu Vu",
          "techTFQ",
          "Study with Tina",
          "Luke Barousse",
          "Rishabh Mishra",
          "CampusX",
          "Krish Naik",
          "freeCodeCamp Español"
         ],
         "categoryorder": "array",
         "domain": [
          0,
          1
         ],
         "title": {
          "text": "Channel_Name"
         }
        },
        "yaxis": {
         "anchor": "x",
         "domain": [
          0,
          1
         ],
         "title": {
          "text": "Total_videos"
         }
        }
       }
      }
     },
     "metadata": {},
     "output_type": "display_data"
    }
   ],
   "source": [
    "fig = px.bar(channel_data, x='Channel_Name', y='Total_videos', title=\"Channel wise Videocount\",color = 'Channel_Name', color_discrete_sequence=px.colors.qualitative.Set3)\n",
    "fig.show()"
   ]
  },
  {
   "cell_type": "code",
   "execution_count": 173,
   "metadata": {},
   "outputs": [],
   "source": [
    "playlist_id = channel_data.loc[channel_data['Channel_Name']=='Thu Vu','Playlist_id'].iloc[0]"
   ]
  },
  {
   "cell_type": "code",
   "execution_count": 174,
   "metadata": {},
   "outputs": [
    {
     "data": {
      "text/plain": [
       "'UUJQJAI7IjbLcpsjWdSzYz0Q'"
      ]
     },
     "execution_count": 174,
     "metadata": {},
     "output_type": "execute_result"
    }
   ],
   "source": [
    "playlist_id"
   ]
  },
  {
   "cell_type": "code",
   "execution_count": 193,
   "metadata": {},
   "outputs": [],
   "source": [
    "def get_video_ids(youtube,playlist_id):\n",
    "\n",
    "    request = youtube.playlistItems().list(\n",
    "                part = 'contentDetails',\n",
    "                playlistId = playlist_id,\n",
    "                maxResults = 50)\n",
    "    response = request.execute()\n",
    "    \n",
    "    video_ids = []\n",
    "    for i in range(len(response['items'])):\n",
    "        \n",
    "        video_ids.append(response['items'][i]['contentDetails']['videoId'])\n",
    "\n",
    "    return video_ids\n"
   ]
  },
  {
   "cell_type": "code",
   "execution_count": 194,
   "metadata": {},
   "outputs": [],
   "source": [
    "videos = get_video_ids(youtube,playlist_id)"
   ]
  },
  {
   "cell_type": "code",
   "execution_count": 195,
   "metadata": {},
   "outputs": [
    {
     "data": {
      "text/plain": [
       "['rI1FcpKi0Lc',\n",
       " 'EFUE4DHiAPM',\n",
       " 'iuO2D5nz_AE',\n",
       " 'St48epdRDZw',\n",
       " '2Cj2-6TrbP8',\n",
       " 'qwQppK3yJvM',\n",
       " 'nd4oG280ifg',\n",
       " '2S33xqHo_dA',\n",
       " 'BdrpsRGCxfg',\n",
       " 'h_GTxRFYETY',\n",
       " 'JTHyfv_GUCw',\n",
       " 'TR7AGmey1C8',\n",
       " 'HKYULsQr_U0',\n",
       " 'fhFz0JfGvfc',\n",
       " 'lp6SfYCRGLM',\n",
       " 'uGynMyXCcg8',\n",
       " 'EzVIkHQWnhc',\n",
       " '8sLq4P-QDL0',\n",
       " '3736Pd_hwFQ',\n",
       " 'PvnSSrnjLX8',\n",
       " 'S5U76LPu_bQ',\n",
       " 'l2YU8QuXiTM',\n",
       " 'dYQfgcd0XD4',\n",
       " '0JDsvZHooNU',\n",
       " 'kHdAb8yBBDI',\n",
       " 'tSiS15ubQFQ',\n",
       " 'c3Uvz75kVd4',\n",
       " 'aYorBPF05Rw',\n",
       " 'N1UMycRJbAw',\n",
       " '7yGolPv8AOs',\n",
       " 'EE1Y2enHrcU',\n",
       " 'K2wffRzTvBM',\n",
       " 'JPHS10dt_CY',\n",
       " 'hucuMCZBbIY',\n",
       " 'tpGawyNMRLM',\n",
       " '_8EV4tdJY2M',\n",
       " 'QnGotm29cZE',\n",
       " 'ZfN8nG0luig',\n",
       " 'GM8nrVBFdFo',\n",
       " 'GYxiuFRkS58',\n",
       " 'UmFwybBiDt0',\n",
       " 'N0o-Bjiwt0M',\n",
       " 'JsZiFysJS1U',\n",
       " 'uFTd2b23GvI',\n",
       " 'ho9vNL4MYZ8',\n",
       " 'hFLp_aP8iQQ',\n",
       " 'fClT4PWlGoA',\n",
       " 'p5MwJuZZYYY',\n",
       " 'B11nK1QCPRA',\n",
       " 'O_7f4MGeCKE']"
      ]
     },
     "execution_count": 195,
     "metadata": {},
     "output_type": "execute_result"
    }
   ],
   "source": [
    "videos"
   ]
  },
  {
   "cell_type": "code",
   "execution_count": 222,
   "metadata": {},
   "outputs": [],
   "source": [
    "def get_video_details(youtube,videos):\n",
    "    request = youtube.videos().list(\n",
    "                part ='snippet,statistics',\n",
    "                id = ','.join(videos))\n",
    "    response =request.execute()\n",
    "    Video_stats =[]\n",
    "    for video in response['items']:\n",
    "        video_stats = dict(Title = video['snippet']['title'],\n",
    "                           Published_date = video['snippet']['publishedAt'],\n",
    "                           views = video['statistics']['viewCount'],\n",
    "                           likes = video['statistics']['likeCount'],\n",
    "                            Comments = video['statistics']['commentCount'])\n",
    "        Video_stats.append(video_stats)\n",
    "\n",
    "    return Video_stats"
   ]
  },
  {
   "cell_type": "code",
   "execution_count": 223,
   "metadata": {},
   "outputs": [],
   "source": [
    "video_details = get_video_details(youtube,videos)"
   ]
  },
  {
   "cell_type": "code",
   "execution_count": 224,
   "metadata": {},
   "outputs": [],
   "source": [
    "video_data = pd.DataFrame(video_details)"
   ]
  },
  {
   "cell_type": "code",
   "execution_count": 226,
   "metadata": {},
   "outputs": [],
   "source": [
    "video_data['Published_date'] = pd.to_datetime(video_data['Published_date']).dt.date\n",
    "video_data['views'] = pd.to_numeric(video_data['views'])\n",
    "video_data['Comments'] = pd.to_numeric(video_data['Comments'])\n",
    "video_data['likes'] = pd.to_numeric(video_data['likes'])"
   ]
  },
  {
   "cell_type": "code",
   "execution_count": 227,
   "metadata": {},
   "outputs": [
    {
     "data": {
      "text/html": [
       "<div>\n",
       "<style scoped>\n",
       "    .dataframe tbody tr th:only-of-type {\n",
       "        vertical-align: middle;\n",
       "    }\n",
       "\n",
       "    .dataframe tbody tr th {\n",
       "        vertical-align: top;\n",
       "    }\n",
       "\n",
       "    .dataframe thead th {\n",
       "        text-align: right;\n",
       "    }\n",
       "</style>\n",
       "<table border=\"1\" class=\"dataframe\">\n",
       "  <thead>\n",
       "    <tr style=\"text-align: right;\">\n",
       "      <th></th>\n",
       "      <th>Title</th>\n",
       "      <th>Published_date</th>\n",
       "      <th>views</th>\n",
       "      <th>likes</th>\n",
       "      <th>Comments</th>\n",
       "    </tr>\n",
       "  </thead>\n",
       "  <tbody>\n",
       "    <tr>\n",
       "      <th>0</th>\n",
       "      <td>How to Build an AI Project Portfolio (Beginner...</td>\n",
       "      <td>2024-09-28</td>\n",
       "      <td>32491</td>\n",
       "      <td>1227</td>\n",
       "      <td>28</td>\n",
       "    </tr>\n",
       "    <tr>\n",
       "      <th>1</th>\n",
       "      <td>Extracting Structured Data From PDFs | Full Py...</td>\n",
       "      <td>2024-09-19</td>\n",
       "      <td>66925</td>\n",
       "      <td>2781</td>\n",
       "      <td>107</td>\n",
       "    </tr>\n",
       "    <tr>\n",
       "      <th>2</th>\n",
       "      <td>I Studied Data Job Trends for 24 Hours to Save...</td>\n",
       "      <td>2024-07-11</td>\n",
       "      <td>297230</td>\n",
       "      <td>8948</td>\n",
       "      <td>332</td>\n",
       "    </tr>\n",
       "    <tr>\n",
       "      <th>3</th>\n",
       "      <td>How I Would Learn Python FAST (if I could star...</td>\n",
       "      <td>2024-06-19</td>\n",
       "      <td>749094</td>\n",
       "      <td>28038</td>\n",
       "      <td>948</td>\n",
       "    </tr>\n",
       "    <tr>\n",
       "      <th>4</th>\n",
       "      <td>How I found time for everything with a fulltim...</td>\n",
       "      <td>2024-06-02</td>\n",
       "      <td>29496</td>\n",
       "      <td>1319</td>\n",
       "      <td>61</td>\n",
       "    </tr>\n",
       "    <tr>\n",
       "      <th>5</th>\n",
       "      <td>Is It Too Late To Become a Data Analyst?  | Ca...</td>\n",
       "      <td>2024-05-31</td>\n",
       "      <td>10875</td>\n",
       "      <td>374</td>\n",
       "      <td>19</td>\n",
       "    </tr>\n",
       "    <tr>\n",
       "      <th>6</th>\n",
       "      <td>I didn't worry about climate change, until I s...</td>\n",
       "      <td>2024-04-10</td>\n",
       "      <td>5387</td>\n",
       "      <td>225</td>\n",
       "      <td>62</td>\n",
       "    </tr>\n",
       "    <tr>\n",
       "      <th>7</th>\n",
       "      <td>How to Land a Job Using AI Tools</td>\n",
       "      <td>2024-03-07</td>\n",
       "      <td>20875</td>\n",
       "      <td>752</td>\n",
       "      <td>34</td>\n",
       "    </tr>\n",
       "    <tr>\n",
       "      <th>8</th>\n",
       "      <td>What I've Learned Reading These 7 Books about AI</td>\n",
       "      <td>2024-02-09</td>\n",
       "      <td>37913</td>\n",
       "      <td>1503</td>\n",
       "      <td>52</td>\n",
       "    </tr>\n",
       "    <tr>\n",
       "      <th>9</th>\n",
       "      <td>I Analyzed My Finance With Local LLMs</td>\n",
       "      <td>2024-01-31</td>\n",
       "      <td>504766</td>\n",
       "      <td>16187</td>\n",
       "      <td>426</td>\n",
       "    </tr>\n",
       "    <tr>\n",
       "      <th>10</th>\n",
       "      <td>Should You Still Learn Data Analytics? (in 2024)</td>\n",
       "      <td>2023-12-30</td>\n",
       "      <td>142199</td>\n",
       "      <td>4110</td>\n",
       "      <td>176</td>\n",
       "    </tr>\n",
       "    <tr>\n",
       "      <th>11</th>\n",
       "      <td>How I'd Learn AI (If I Had to Start Over)</td>\n",
       "      <td>2023-11-29</td>\n",
       "      <td>901505</td>\n",
       "      <td>33490</td>\n",
       "      <td>638</td>\n",
       "    </tr>\n",
       "    <tr>\n",
       "      <th>12</th>\n",
       "      <td>Should You Still Learn to Code in 2024? #codin...</td>\n",
       "      <td>2023-11-12</td>\n",
       "      <td>16278</td>\n",
       "      <td>772</td>\n",
       "      <td>18</td>\n",
       "    </tr>\n",
       "    <tr>\n",
       "      <th>13</th>\n",
       "      <td>I Created a Custom GPT for Data Science Nerds ...</td>\n",
       "      <td>2023-11-11</td>\n",
       "      <td>98368</td>\n",
       "      <td>1731</td>\n",
       "      <td>85</td>\n",
       "    </tr>\n",
       "    <tr>\n",
       "      <th>14</th>\n",
       "      <td>How NOT to Get Replaced by AI (as a data profe...</td>\n",
       "      <td>2023-10-16</td>\n",
       "      <td>13751</td>\n",
       "      <td>684</td>\n",
       "      <td>45</td>\n",
       "    </tr>\n",
       "    <tr>\n",
       "      <th>15</th>\n",
       "      <td>📚 BEST AI Books to Read in 2023</td>\n",
       "      <td>2023-10-09</td>\n",
       "      <td>35081</td>\n",
       "      <td>2880</td>\n",
       "      <td>22</td>\n",
       "    </tr>\n",
       "    <tr>\n",
       "      <th>16</th>\n",
       "      <td>Doing Data Analysis on Sensitive Data (ft. Obl...</td>\n",
       "      <td>2023-08-22</td>\n",
       "      <td>7202</td>\n",
       "      <td>306</td>\n",
       "      <td>32</td>\n",
       "    </tr>\n",
       "    <tr>\n",
       "      <th>17</th>\n",
       "      <td>I Tried ChatGPT Code Interpreter for Data Task...</td>\n",
       "      <td>2023-07-15</td>\n",
       "      <td>46213</td>\n",
       "      <td>2204</td>\n",
       "      <td>55</td>\n",
       "    </tr>\n",
       "    <tr>\n",
       "      <th>18</th>\n",
       "      <td>40 Data Science Tips I Wish I Knew Sooner</td>\n",
       "      <td>2023-07-08</td>\n",
       "      <td>26632</td>\n",
       "      <td>1037</td>\n",
       "      <td>72</td>\n",
       "    </tr>\n",
       "    <tr>\n",
       "      <th>19</th>\n",
       "      <td>Self-taught vs. Guided Program: CareerFoundry'...</td>\n",
       "      <td>2023-06-16</td>\n",
       "      <td>10259</td>\n",
       "      <td>280</td>\n",
       "      <td>40</td>\n",
       "    </tr>\n",
       "    <tr>\n",
       "      <th>20</th>\n",
       "      <td>Is a Computer Science Degree WORTHLESS 🤯? (in ...</td>\n",
       "      <td>2023-06-08</td>\n",
       "      <td>31644</td>\n",
       "      <td>886</td>\n",
       "      <td>81</td>\n",
       "    </tr>\n",
       "    <tr>\n",
       "      <th>21</th>\n",
       "      <td>ChatGPT + Jupyter Notebook = Mindblowing! 🤩</td>\n",
       "      <td>2023-05-28</td>\n",
       "      <td>41709</td>\n",
       "      <td>1415</td>\n",
       "      <td>82</td>\n",
       "    </tr>\n",
       "    <tr>\n",
       "      <th>22</th>\n",
       "      <td>Love ❤️ JupyterCon Paris 2023</td>\n",
       "      <td>2023-05-22</td>\n",
       "      <td>7552</td>\n",
       "      <td>496</td>\n",
       "      <td>15</td>\n",
       "    </tr>\n",
       "    <tr>\n",
       "      <th>23</th>\n",
       "      <td>AI replacing jobs, mistakes, relationships (an...</td>\n",
       "      <td>2023-05-15</td>\n",
       "      <td>6371</td>\n",
       "      <td>290</td>\n",
       "      <td>35</td>\n",
       "    </tr>\n",
       "    <tr>\n",
       "      <th>24</th>\n",
       "      <td>Will ChatGPT Code Interpreter Replace Data Ana...</td>\n",
       "      <td>2023-05-12</td>\n",
       "      <td>68931</td>\n",
       "      <td>3535</td>\n",
       "      <td>67</td>\n",
       "    </tr>\n",
       "    <tr>\n",
       "      <th>25</th>\n",
       "      <td>How to Deploy Machine Learning Models (ft. Run...</td>\n",
       "      <td>2023-05-10</td>\n",
       "      <td>111957</td>\n",
       "      <td>1809</td>\n",
       "      <td>46</td>\n",
       "    </tr>\n",
       "    <tr>\n",
       "      <th>26</th>\n",
       "      <td>Will AI be THE END of us?</td>\n",
       "      <td>2023-04-21</td>\n",
       "      <td>8983</td>\n",
       "      <td>378</td>\n",
       "      <td>50</td>\n",
       "    </tr>\n",
       "    <tr>\n",
       "      <th>27</th>\n",
       "      <td>How I'd Learn to Become a Data Analyst</td>\n",
       "      <td>2023-04-09</td>\n",
       "      <td>547648</td>\n",
       "      <td>32277</td>\n",
       "      <td>119</td>\n",
       "    </tr>\n",
       "    <tr>\n",
       "      <th>28</th>\n",
       "      <td>Roadmap for Transitioning to Data Analytics in...</td>\n",
       "      <td>2023-03-31</td>\n",
       "      <td>469177</td>\n",
       "      <td>18228</td>\n",
       "      <td>362</td>\n",
       "    </tr>\n",
       "    <tr>\n",
       "      <th>29</th>\n",
       "      <td>If Learning Data Science Is Like Rock Climbing</td>\n",
       "      <td>2023-03-19</td>\n",
       "      <td>26428</td>\n",
       "      <td>1513</td>\n",
       "      <td>28</td>\n",
       "    </tr>\n",
       "    <tr>\n",
       "      <th>30</th>\n",
       "      <td>Building a Chatbot with ChatGPT API and Reddit...</td>\n",
       "      <td>2023-03-15</td>\n",
       "      <td>53032</td>\n",
       "      <td>2321</td>\n",
       "      <td>122</td>\n",
       "    </tr>\n",
       "    <tr>\n",
       "      <th>31</th>\n",
       "      <td>I asked ChatGPT to do EDA for me: Here's how i...</td>\n",
       "      <td>2023-02-26</td>\n",
       "      <td>360836</td>\n",
       "      <td>12496</td>\n",
       "      <td>141</td>\n",
       "    </tr>\n",
       "    <tr>\n",
       "      <th>32</th>\n",
       "      <td>Math for Machine Learning and Data Science Spe...</td>\n",
       "      <td>2023-02-16</td>\n",
       "      <td>60881</td>\n",
       "      <td>2835</td>\n",
       "      <td>92</td>\n",
       "    </tr>\n",
       "    <tr>\n",
       "      <th>33</th>\n",
       "      <td>Will AI Replace Data Scientists? 🤔</td>\n",
       "      <td>2023-02-04</td>\n",
       "      <td>68965</td>\n",
       "      <td>1973</td>\n",
       "      <td>211</td>\n",
       "    </tr>\n",
       "    <tr>\n",
       "      <th>34</th>\n",
       "      <td>My Entire Process for Doing Data Science Proje...</td>\n",
       "      <td>2023-01-23</td>\n",
       "      <td>51734</td>\n",
       "      <td>2148</td>\n",
       "      <td>96</td>\n",
       "    </tr>\n",
       "    <tr>\n",
       "      <th>35</th>\n",
       "      <td>How to ACTUALLY Achieve Your Data Science Goal...</td>\n",
       "      <td>2022-12-30</td>\n",
       "      <td>23777</td>\n",
       "      <td>906</td>\n",
       "      <td>41</td>\n",
       "    </tr>\n",
       "    <tr>\n",
       "      <th>36</th>\n",
       "      <td>Full Stack Data Science Roadmap 2024</td>\n",
       "      <td>2022-12-22</td>\n",
       "      <td>172777</td>\n",
       "      <td>6650</td>\n",
       "      <td>182</td>\n",
       "    </tr>\n",
       "    <tr>\n",
       "      <th>37</th>\n",
       "      <td>RECESSION 2023: Should You Worry About Data Sc...</td>\n",
       "      <td>2022-12-05</td>\n",
       "      <td>43538</td>\n",
       "      <td>1727</td>\n",
       "      <td>83</td>\n",
       "    </tr>\n",
       "    <tr>\n",
       "      <th>38</th>\n",
       "      <td>DON'T DO THIS: Revealing biggest mistakes in d...</td>\n",
       "      <td>2022-11-25</td>\n",
       "      <td>41235</td>\n",
       "      <td>1892</td>\n",
       "      <td>93</td>\n",
       "    </tr>\n",
       "    <tr>\n",
       "      <th>39</th>\n",
       "      <td>💡Awesome Data Portfolio Project Ideas #shorts ...</td>\n",
       "      <td>2022-11-16</td>\n",
       "      <td>258230</td>\n",
       "      <td>20147</td>\n",
       "      <td>107</td>\n",
       "    </tr>\n",
       "    <tr>\n",
       "      <th>40</th>\n",
       "      <td>📚3 In-Depth Machine Learning Books You Can't M...</td>\n",
       "      <td>2022-11-13</td>\n",
       "      <td>84759</td>\n",
       "      <td>7356</td>\n",
       "      <td>56</td>\n",
       "    </tr>\n",
       "    <tr>\n",
       "      <th>41</th>\n",
       "      <td>I Analyzed 1000 Data Science Books on Amazon: ...</td>\n",
       "      <td>2022-11-10</td>\n",
       "      <td>144609</td>\n",
       "      <td>5166</td>\n",
       "      <td>196</td>\n",
       "    </tr>\n",
       "    <tr>\n",
       "      <th>42</th>\n",
       "      <td>Moving Abroad, Data Science Careers, Job Searc...</td>\n",
       "      <td>2022-10-24</td>\n",
       "      <td>25042</td>\n",
       "      <td>994</td>\n",
       "      <td>73</td>\n",
       "    </tr>\n",
       "    <tr>\n",
       "      <th>43</th>\n",
       "      <td>Best Data Science Books for Beginners 📚</td>\n",
       "      <td>2022-10-08</td>\n",
       "      <td>372189</td>\n",
       "      <td>19326</td>\n",
       "      <td>272</td>\n",
       "    </tr>\n",
       "    <tr>\n",
       "      <th>44</th>\n",
       "      <td>Top Courses to Learn Data Science Skills FAST!</td>\n",
       "      <td>2022-09-27</td>\n",
       "      <td>179696</td>\n",
       "      <td>8777</td>\n",
       "      <td>174</td>\n",
       "    </tr>\n",
       "    <tr>\n",
       "      <th>45</th>\n",
       "      <td>Learn Data Science on iPad | Coding on iPad, n...</td>\n",
       "      <td>2022-09-16</td>\n",
       "      <td>86754</td>\n",
       "      <td>1867</td>\n",
       "      <td>62</td>\n",
       "    </tr>\n",
       "    <tr>\n",
       "      <th>46</th>\n",
       "      <td>The Best Jupyterlab Extension That You Didn't ...</td>\n",
       "      <td>2022-09-05</td>\n",
       "      <td>160853</td>\n",
       "      <td>2681</td>\n",
       "      <td>114</td>\n",
       "    </tr>\n",
       "    <tr>\n",
       "      <th>47</th>\n",
       "      <td>👩🏻‍💻 How I Self-Study Anything (as a Data Scie...</td>\n",
       "      <td>2022-08-15</td>\n",
       "      <td>438939</td>\n",
       "      <td>22456</td>\n",
       "      <td>371</td>\n",
       "    </tr>\n",
       "    <tr>\n",
       "      <th>48</th>\n",
       "      <td>👩🏻‍💻 How to Create a Python Dashboard for Audi...</td>\n",
       "      <td>2022-08-02</td>\n",
       "      <td>15413</td>\n",
       "      <td>635</td>\n",
       "      <td>68</td>\n",
       "    </tr>\n",
       "    <tr>\n",
       "      <th>49</th>\n",
       "      <td>What I Learned in My Online BSc Computer Scien...</td>\n",
       "      <td>2022-07-10</td>\n",
       "      <td>160122</td>\n",
       "      <td>5326</td>\n",
       "      <td>438</td>\n",
       "    </tr>\n",
       "  </tbody>\n",
       "</table>\n",
       "</div>"
      ],
      "text/plain": [
       "                                                Title Published_date   views  \\\n",
       "0   How to Build an AI Project Portfolio (Beginner...     2024-09-28   32491   \n",
       "1   Extracting Structured Data From PDFs | Full Py...     2024-09-19   66925   \n",
       "2   I Studied Data Job Trends for 24 Hours to Save...     2024-07-11  297230   \n",
       "3   How I Would Learn Python FAST (if I could star...     2024-06-19  749094   \n",
       "4   How I found time for everything with a fulltim...     2024-06-02   29496   \n",
       "5   Is It Too Late To Become a Data Analyst?  | Ca...     2024-05-31   10875   \n",
       "6   I didn't worry about climate change, until I s...     2024-04-10    5387   \n",
       "7                    How to Land a Job Using AI Tools     2024-03-07   20875   \n",
       "8    What I've Learned Reading These 7 Books about AI     2024-02-09   37913   \n",
       "9               I Analyzed My Finance With Local LLMs     2024-01-31  504766   \n",
       "10   Should You Still Learn Data Analytics? (in 2024)     2023-12-30  142199   \n",
       "11          How I'd Learn AI (If I Had to Start Over)     2023-11-29  901505   \n",
       "12  Should You Still Learn to Code in 2024? #codin...     2023-11-12   16278   \n",
       "13  I Created a Custom GPT for Data Science Nerds ...     2023-11-11   98368   \n",
       "14  How NOT to Get Replaced by AI (as a data profe...     2023-10-16   13751   \n",
       "15                    📚 BEST AI Books to Read in 2023     2023-10-09   35081   \n",
       "16  Doing Data Analysis on Sensitive Data (ft. Obl...     2023-08-22    7202   \n",
       "17  I Tried ChatGPT Code Interpreter for Data Task...     2023-07-15   46213   \n",
       "18          40 Data Science Tips I Wish I Knew Sooner     2023-07-08   26632   \n",
       "19  Self-taught vs. Guided Program: CareerFoundry'...     2023-06-16   10259   \n",
       "20  Is a Computer Science Degree WORTHLESS 🤯? (in ...     2023-06-08   31644   \n",
       "21        ChatGPT + Jupyter Notebook = Mindblowing! 🤩     2023-05-28   41709   \n",
       "22                      Love ❤️ JupyterCon Paris 2023     2023-05-22    7552   \n",
       "23  AI replacing jobs, mistakes, relationships (an...     2023-05-15    6371   \n",
       "24  Will ChatGPT Code Interpreter Replace Data Ana...     2023-05-12   68931   \n",
       "25  How to Deploy Machine Learning Models (ft. Run...     2023-05-10  111957   \n",
       "26                          Will AI be THE END of us?     2023-04-21    8983   \n",
       "27             How I'd Learn to Become a Data Analyst     2023-04-09  547648   \n",
       "28  Roadmap for Transitioning to Data Analytics in...     2023-03-31  469177   \n",
       "29     If Learning Data Science Is Like Rock Climbing     2023-03-19   26428   \n",
       "30  Building a Chatbot with ChatGPT API and Reddit...     2023-03-15   53032   \n",
       "31  I asked ChatGPT to do EDA for me: Here's how i...     2023-02-26  360836   \n",
       "32  Math for Machine Learning and Data Science Spe...     2023-02-16   60881   \n",
       "33                 Will AI Replace Data Scientists? 🤔     2023-02-04   68965   \n",
       "34  My Entire Process for Doing Data Science Proje...     2023-01-23   51734   \n",
       "35  How to ACTUALLY Achieve Your Data Science Goal...     2022-12-30   23777   \n",
       "36               Full Stack Data Science Roadmap 2024     2022-12-22  172777   \n",
       "37  RECESSION 2023: Should You Worry About Data Sc...     2022-12-05   43538   \n",
       "38  DON'T DO THIS: Revealing biggest mistakes in d...     2022-11-25   41235   \n",
       "39  💡Awesome Data Portfolio Project Ideas #shorts ...     2022-11-16  258230   \n",
       "40  📚3 In-Depth Machine Learning Books You Can't M...     2022-11-13   84759   \n",
       "41  I Analyzed 1000 Data Science Books on Amazon: ...     2022-11-10  144609   \n",
       "42  Moving Abroad, Data Science Careers, Job Searc...     2022-10-24   25042   \n",
       "43            Best Data Science Books for Beginners 📚     2022-10-08  372189   \n",
       "44     Top Courses to Learn Data Science Skills FAST!     2022-09-27  179696   \n",
       "45  Learn Data Science on iPad | Coding on iPad, n...     2022-09-16   86754   \n",
       "46  The Best Jupyterlab Extension That You Didn't ...     2022-09-05  160853   \n",
       "47  👩🏻‍💻 How I Self-Study Anything (as a Data Scie...     2022-08-15  438939   \n",
       "48  👩🏻‍💻 How to Create a Python Dashboard for Audi...     2022-08-02   15413   \n",
       "49  What I Learned in My Online BSc Computer Scien...     2022-07-10  160122   \n",
       "\n",
       "    likes  Comments  \n",
       "0    1227        28  \n",
       "1    2781       107  \n",
       "2    8948       332  \n",
       "3   28038       948  \n",
       "4    1319        61  \n",
       "5     374        19  \n",
       "6     225        62  \n",
       "7     752        34  \n",
       "8    1503        52  \n",
       "9   16187       426  \n",
       "10   4110       176  \n",
       "11  33490       638  \n",
       "12    772        18  \n",
       "13   1731        85  \n",
       "14    684        45  \n",
       "15   2880        22  \n",
       "16    306        32  \n",
       "17   2204        55  \n",
       "18   1037        72  \n",
       "19    280        40  \n",
       "20    886        81  \n",
       "21   1415        82  \n",
       "22    496        15  \n",
       "23    290        35  \n",
       "24   3535        67  \n",
       "25   1809        46  \n",
       "26    378        50  \n",
       "27  32277       119  \n",
       "28  18228       362  \n",
       "29   1513        28  \n",
       "30   2321       122  \n",
       "31  12496       141  \n",
       "32   2835        92  \n",
       "33   1973       211  \n",
       "34   2148        96  \n",
       "35    906        41  \n",
       "36   6650       182  \n",
       "37   1727        83  \n",
       "38   1892        93  \n",
       "39  20147       107  \n",
       "40   7356        56  \n",
       "41   5166       196  \n",
       "42    994        73  \n",
       "43  19326       272  \n",
       "44   8777       174  \n",
       "45   1867        62  \n",
       "46   2681       114  \n",
       "47  22456       371  \n",
       "48    635        68  \n",
       "49   5326       438  "
      ]
     },
     "execution_count": 227,
     "metadata": {},
     "output_type": "execute_result"
    }
   ],
   "source": [
    "video_data"
   ]
  },
  {
   "cell_type": "code",
   "execution_count": 228,
   "metadata": {},
   "outputs": [
    {
     "data": {
      "text/plain": [
       "Title             object\n",
       "Published_date    object\n",
       "views              int64\n",
       "likes              int64\n",
       "Comments           int64\n",
       "dtype: object"
      ]
     },
     "execution_count": 228,
     "metadata": {},
     "output_type": "execute_result"
    }
   ],
   "source": [
    "video_data.dtypes"
   ]
  },
  {
   "cell_type": "code",
   "execution_count": 230,
   "metadata": {},
   "outputs": [],
   "source": [
    "top_10_videos = video_data.sort_values(by = 'views',ascending = False).head(10)"
   ]
  },
  {
   "cell_type": "code",
   "execution_count": 231,
   "metadata": {},
   "outputs": [
    {
     "data": {
      "text/html": [
       "<div>\n",
       "<style scoped>\n",
       "    .dataframe tbody tr th:only-of-type {\n",
       "        vertical-align: middle;\n",
       "    }\n",
       "\n",
       "    .dataframe tbody tr th {\n",
       "        vertical-align: top;\n",
       "    }\n",
       "\n",
       "    .dataframe thead th {\n",
       "        text-align: right;\n",
       "    }\n",
       "</style>\n",
       "<table border=\"1\" class=\"dataframe\">\n",
       "  <thead>\n",
       "    <tr style=\"text-align: right;\">\n",
       "      <th></th>\n",
       "      <th>Title</th>\n",
       "      <th>Published_date</th>\n",
       "      <th>views</th>\n",
       "      <th>likes</th>\n",
       "      <th>Comments</th>\n",
       "    </tr>\n",
       "  </thead>\n",
       "  <tbody>\n",
       "    <tr>\n",
       "      <th>11</th>\n",
       "      <td>How I'd Learn AI (If I Had to Start Over)</td>\n",
       "      <td>2023-11-29</td>\n",
       "      <td>901505</td>\n",
       "      <td>33490</td>\n",
       "      <td>638</td>\n",
       "    </tr>\n",
       "    <tr>\n",
       "      <th>3</th>\n",
       "      <td>How I Would Learn Python FAST (if I could star...</td>\n",
       "      <td>2024-06-19</td>\n",
       "      <td>749094</td>\n",
       "      <td>28038</td>\n",
       "      <td>948</td>\n",
       "    </tr>\n",
       "    <tr>\n",
       "      <th>27</th>\n",
       "      <td>How I'd Learn to Become a Data Analyst</td>\n",
       "      <td>2023-04-09</td>\n",
       "      <td>547648</td>\n",
       "      <td>32277</td>\n",
       "      <td>119</td>\n",
       "    </tr>\n",
       "    <tr>\n",
       "      <th>9</th>\n",
       "      <td>I Analyzed My Finance With Local LLMs</td>\n",
       "      <td>2024-01-31</td>\n",
       "      <td>504766</td>\n",
       "      <td>16187</td>\n",
       "      <td>426</td>\n",
       "    </tr>\n",
       "    <tr>\n",
       "      <th>28</th>\n",
       "      <td>Roadmap for Transitioning to Data Analytics in...</td>\n",
       "      <td>2023-03-31</td>\n",
       "      <td>469177</td>\n",
       "      <td>18228</td>\n",
       "      <td>362</td>\n",
       "    </tr>\n",
       "    <tr>\n",
       "      <th>47</th>\n",
       "      <td>👩🏻‍💻 How I Self-Study Anything (as a Data Scie...</td>\n",
       "      <td>2022-08-15</td>\n",
       "      <td>438939</td>\n",
       "      <td>22456</td>\n",
       "      <td>371</td>\n",
       "    </tr>\n",
       "    <tr>\n",
       "      <th>43</th>\n",
       "      <td>Best Data Science Books for Beginners 📚</td>\n",
       "      <td>2022-10-08</td>\n",
       "      <td>372189</td>\n",
       "      <td>19326</td>\n",
       "      <td>272</td>\n",
       "    </tr>\n",
       "    <tr>\n",
       "      <th>31</th>\n",
       "      <td>I asked ChatGPT to do EDA for me: Here's how i...</td>\n",
       "      <td>2023-02-26</td>\n",
       "      <td>360836</td>\n",
       "      <td>12496</td>\n",
       "      <td>141</td>\n",
       "    </tr>\n",
       "    <tr>\n",
       "      <th>2</th>\n",
       "      <td>I Studied Data Job Trends for 24 Hours to Save...</td>\n",
       "      <td>2024-07-11</td>\n",
       "      <td>297230</td>\n",
       "      <td>8948</td>\n",
       "      <td>332</td>\n",
       "    </tr>\n",
       "    <tr>\n",
       "      <th>39</th>\n",
       "      <td>💡Awesome Data Portfolio Project Ideas #shorts ...</td>\n",
       "      <td>2022-11-16</td>\n",
       "      <td>258230</td>\n",
       "      <td>20147</td>\n",
       "      <td>107</td>\n",
       "    </tr>\n",
       "  </tbody>\n",
       "</table>\n",
       "</div>"
      ],
      "text/plain": [
       "                                                Title Published_date   views  \\\n",
       "11          How I'd Learn AI (If I Had to Start Over)     2023-11-29  901505   \n",
       "3   How I Would Learn Python FAST (if I could star...     2024-06-19  749094   \n",
       "27             How I'd Learn to Become a Data Analyst     2023-04-09  547648   \n",
       "9               I Analyzed My Finance With Local LLMs     2024-01-31  504766   \n",
       "28  Roadmap for Transitioning to Data Analytics in...     2023-03-31  469177   \n",
       "47  👩🏻‍💻 How I Self-Study Anything (as a Data Scie...     2022-08-15  438939   \n",
       "43            Best Data Science Books for Beginners 📚     2022-10-08  372189   \n",
       "31  I asked ChatGPT to do EDA for me: Here's how i...     2023-02-26  360836   \n",
       "2   I Studied Data Job Trends for 24 Hours to Save...     2024-07-11  297230   \n",
       "39  💡Awesome Data Portfolio Project Ideas #shorts ...     2022-11-16  258230   \n",
       "\n",
       "    likes  Comments  \n",
       "11  33490       638  \n",
       "3   28038       948  \n",
       "27  32277       119  \n",
       "9   16187       426  \n",
       "28  18228       362  \n",
       "47  22456       371  \n",
       "43  19326       272  \n",
       "31  12496       141  \n",
       "2    8948       332  \n",
       "39  20147       107  "
      ]
     },
     "execution_count": 231,
     "metadata": {},
     "output_type": "execute_result"
    }
   ],
   "source": [
    "top_10_videos"
   ]
  },
  {
   "cell_type": "code",
   "execution_count": 240,
   "metadata": {},
   "outputs": [
    {
     "data": {
      "application/vnd.plotly.v1+json": {
       "config": {
        "plotlyServerURL": "https://plot.ly"
       },
       "data": [
        {
         "alignmentgroup": "True",
         "hovertemplate": "views=%{x}<br>Title=%{y}<extra></extra>",
         "legendgroup": "",
         "marker": {
          "color": "#636efa",
          "pattern": {
           "shape": ""
          }
         },
         "name": "",
         "offsetgroup": "",
         "orientation": "h",
         "showlegend": false,
         "textposition": "auto",
         "type": "bar",
         "x": [
          901505,
          749094,
          547648,
          504766,
          469177,
          438939,
          372189,
          360836,
          297230,
          258230
         ],
         "xaxis": "x",
         "y": [
          "How I'd Learn AI (If I Had to Start Over)",
          "How I Would Learn Python FAST (if I could start over)",
          "How I'd Learn to Become a Data Analyst",
          "I Analyzed My Finance With Local LLMs",
          "Roadmap for Transitioning to Data Analytics in 2023",
          "👩🏻‍💻 How I Self-Study Anything (as a Data Scientist)",
          "Best Data Science Books for Beginners 📚",
          "I asked ChatGPT to do EDA for me: Here's how it went",
          "I Studied Data Job Trends for 24 Hours to Save Your Career! (ft Datalore)",
          "💡Awesome Data Portfolio Project Ideas #shorts #datascience"
         ],
         "yaxis": "y"
        }
       ],
       "layout": {
        "barmode": "relative",
        "height": 600,
        "legend": {
         "tracegroupgap": 0
        },
        "template": {
         "data": {
          "bar": [
           {
            "error_x": {
             "color": "#2a3f5f"
            },
            "error_y": {
             "color": "#2a3f5f"
            },
            "marker": {
             "line": {
              "color": "#E5ECF6",
              "width": 0.5
             },
             "pattern": {
              "fillmode": "overlay",
              "size": 10,
              "solidity": 0.2
             }
            },
            "type": "bar"
           }
          ],
          "barpolar": [
           {
            "marker": {
             "line": {
              "color": "#E5ECF6",
              "width": 0.5
             },
             "pattern": {
              "fillmode": "overlay",
              "size": 10,
              "solidity": 0.2
             }
            },
            "type": "barpolar"
           }
          ],
          "carpet": [
           {
            "aaxis": {
             "endlinecolor": "#2a3f5f",
             "gridcolor": "white",
             "linecolor": "white",
             "minorgridcolor": "white",
             "startlinecolor": "#2a3f5f"
            },
            "baxis": {
             "endlinecolor": "#2a3f5f",
             "gridcolor": "white",
             "linecolor": "white",
             "minorgridcolor": "white",
             "startlinecolor": "#2a3f5f"
            },
            "type": "carpet"
           }
          ],
          "choropleth": [
           {
            "colorbar": {
             "outlinewidth": 0,
             "ticks": ""
            },
            "type": "choropleth"
           }
          ],
          "contour": [
           {
            "colorbar": {
             "outlinewidth": 0,
             "ticks": ""
            },
            "colorscale": [
             [
              0,
              "#0d0887"
             ],
             [
              0.1111111111111111,
              "#46039f"
             ],
             [
              0.2222222222222222,
              "#7201a8"
             ],
             [
              0.3333333333333333,
              "#9c179e"
             ],
             [
              0.4444444444444444,
              "#bd3786"
             ],
             [
              0.5555555555555556,
              "#d8576b"
             ],
             [
              0.6666666666666666,
              "#ed7953"
             ],
             [
              0.7777777777777778,
              "#fb9f3a"
             ],
             [
              0.8888888888888888,
              "#fdca26"
             ],
             [
              1,
              "#f0f921"
             ]
            ],
            "type": "contour"
           }
          ],
          "contourcarpet": [
           {
            "colorbar": {
             "outlinewidth": 0,
             "ticks": ""
            },
            "type": "contourcarpet"
           }
          ],
          "heatmap": [
           {
            "colorbar": {
             "outlinewidth": 0,
             "ticks": ""
            },
            "colorscale": [
             [
              0,
              "#0d0887"
             ],
             [
              0.1111111111111111,
              "#46039f"
             ],
             [
              0.2222222222222222,
              "#7201a8"
             ],
             [
              0.3333333333333333,
              "#9c179e"
             ],
             [
              0.4444444444444444,
              "#bd3786"
             ],
             [
              0.5555555555555556,
              "#d8576b"
             ],
             [
              0.6666666666666666,
              "#ed7953"
             ],
             [
              0.7777777777777778,
              "#fb9f3a"
             ],
             [
              0.8888888888888888,
              "#fdca26"
             ],
             [
              1,
              "#f0f921"
             ]
            ],
            "type": "heatmap"
           }
          ],
          "heatmapgl": [
           {
            "colorbar": {
             "outlinewidth": 0,
             "ticks": ""
            },
            "colorscale": [
             [
              0,
              "#0d0887"
             ],
             [
              0.1111111111111111,
              "#46039f"
             ],
             [
              0.2222222222222222,
              "#7201a8"
             ],
             [
              0.3333333333333333,
              "#9c179e"
             ],
             [
              0.4444444444444444,
              "#bd3786"
             ],
             [
              0.5555555555555556,
              "#d8576b"
             ],
             [
              0.6666666666666666,
              "#ed7953"
             ],
             [
              0.7777777777777778,
              "#fb9f3a"
             ],
             [
              0.8888888888888888,
              "#fdca26"
             ],
             [
              1,
              "#f0f921"
             ]
            ],
            "type": "heatmapgl"
           }
          ],
          "histogram": [
           {
            "marker": {
             "pattern": {
              "fillmode": "overlay",
              "size": 10,
              "solidity": 0.2
             }
            },
            "type": "histogram"
           }
          ],
          "histogram2d": [
           {
            "colorbar": {
             "outlinewidth": 0,
             "ticks": ""
            },
            "colorscale": [
             [
              0,
              "#0d0887"
             ],
             [
              0.1111111111111111,
              "#46039f"
             ],
             [
              0.2222222222222222,
              "#7201a8"
             ],
             [
              0.3333333333333333,
              "#9c179e"
             ],
             [
              0.4444444444444444,
              "#bd3786"
             ],
             [
              0.5555555555555556,
              "#d8576b"
             ],
             [
              0.6666666666666666,
              "#ed7953"
             ],
             [
              0.7777777777777778,
              "#fb9f3a"
             ],
             [
              0.8888888888888888,
              "#fdca26"
             ],
             [
              1,
              "#f0f921"
             ]
            ],
            "type": "histogram2d"
           }
          ],
          "histogram2dcontour": [
           {
            "colorbar": {
             "outlinewidth": 0,
             "ticks": ""
            },
            "colorscale": [
             [
              0,
              "#0d0887"
             ],
             [
              0.1111111111111111,
              "#46039f"
             ],
             [
              0.2222222222222222,
              "#7201a8"
             ],
             [
              0.3333333333333333,
              "#9c179e"
             ],
             [
              0.4444444444444444,
              "#bd3786"
             ],
             [
              0.5555555555555556,
              "#d8576b"
             ],
             [
              0.6666666666666666,
              "#ed7953"
             ],
             [
              0.7777777777777778,
              "#fb9f3a"
             ],
             [
              0.8888888888888888,
              "#fdca26"
             ],
             [
              1,
              "#f0f921"
             ]
            ],
            "type": "histogram2dcontour"
           }
          ],
          "mesh3d": [
           {
            "colorbar": {
             "outlinewidth": 0,
             "ticks": ""
            },
            "type": "mesh3d"
           }
          ],
          "parcoords": [
           {
            "line": {
             "colorbar": {
              "outlinewidth": 0,
              "ticks": ""
             }
            },
            "type": "parcoords"
           }
          ],
          "pie": [
           {
            "automargin": true,
            "type": "pie"
           }
          ],
          "scatter": [
           {
            "fillpattern": {
             "fillmode": "overlay",
             "size": 10,
             "solidity": 0.2
            },
            "type": "scatter"
           }
          ],
          "scatter3d": [
           {
            "line": {
             "colorbar": {
              "outlinewidth": 0,
              "ticks": ""
             }
            },
            "marker": {
             "colorbar": {
              "outlinewidth": 0,
              "ticks": ""
             }
            },
            "type": "scatter3d"
           }
          ],
          "scattercarpet": [
           {
            "marker": {
             "colorbar": {
              "outlinewidth": 0,
              "ticks": ""
             }
            },
            "type": "scattercarpet"
           }
          ],
          "scattergeo": [
           {
            "marker": {
             "colorbar": {
              "outlinewidth": 0,
              "ticks": ""
             }
            },
            "type": "scattergeo"
           }
          ],
          "scattergl": [
           {
            "marker": {
             "colorbar": {
              "outlinewidth": 0,
              "ticks": ""
             }
            },
            "type": "scattergl"
           }
          ],
          "scattermapbox": [
           {
            "marker": {
             "colorbar": {
              "outlinewidth": 0,
              "ticks": ""
             }
            },
            "type": "scattermapbox"
           }
          ],
          "scatterpolar": [
           {
            "marker": {
             "colorbar": {
              "outlinewidth": 0,
              "ticks": ""
             }
            },
            "type": "scatterpolar"
           }
          ],
          "scatterpolargl": [
           {
            "marker": {
             "colorbar": {
              "outlinewidth": 0,
              "ticks": ""
             }
            },
            "type": "scatterpolargl"
           }
          ],
          "scatterternary": [
           {
            "marker": {
             "colorbar": {
              "outlinewidth": 0,
              "ticks": ""
             }
            },
            "type": "scatterternary"
           }
          ],
          "surface": [
           {
            "colorbar": {
             "outlinewidth": 0,
             "ticks": ""
            },
            "colorscale": [
             [
              0,
              "#0d0887"
             ],
             [
              0.1111111111111111,
              "#46039f"
             ],
             [
              0.2222222222222222,
              "#7201a8"
             ],
             [
              0.3333333333333333,
              "#9c179e"
             ],
             [
              0.4444444444444444,
              "#bd3786"
             ],
             [
              0.5555555555555556,
              "#d8576b"
             ],
             [
              0.6666666666666666,
              "#ed7953"
             ],
             [
              0.7777777777777778,
              "#fb9f3a"
             ],
             [
              0.8888888888888888,
              "#fdca26"
             ],
             [
              1,
              "#f0f921"
             ]
            ],
            "type": "surface"
           }
          ],
          "table": [
           {
            "cells": {
             "fill": {
              "color": "#EBF0F8"
             },
             "line": {
              "color": "white"
             }
            },
            "header": {
             "fill": {
              "color": "#C8D4E3"
             },
             "line": {
              "color": "white"
             }
            },
            "type": "table"
           }
          ]
         },
         "layout": {
          "annotationdefaults": {
           "arrowcolor": "#2a3f5f",
           "arrowhead": 0,
           "arrowwidth": 1
          },
          "autotypenumbers": "strict",
          "coloraxis": {
           "colorbar": {
            "outlinewidth": 0,
            "ticks": ""
           }
          },
          "colorscale": {
           "diverging": [
            [
             0,
             "#8e0152"
            ],
            [
             0.1,
             "#c51b7d"
            ],
            [
             0.2,
             "#de77ae"
            ],
            [
             0.3,
             "#f1b6da"
            ],
            [
             0.4,
             "#fde0ef"
            ],
            [
             0.5,
             "#f7f7f7"
            ],
            [
             0.6,
             "#e6f5d0"
            ],
            [
             0.7,
             "#b8e186"
            ],
            [
             0.8,
             "#7fbc41"
            ],
            [
             0.9,
             "#4d9221"
            ],
            [
             1,
             "#276419"
            ]
           ],
           "sequential": [
            [
             0,
             "#0d0887"
            ],
            [
             0.1111111111111111,
             "#46039f"
            ],
            [
             0.2222222222222222,
             "#7201a8"
            ],
            [
             0.3333333333333333,
             "#9c179e"
            ],
            [
             0.4444444444444444,
             "#bd3786"
            ],
            [
             0.5555555555555556,
             "#d8576b"
            ],
            [
             0.6666666666666666,
             "#ed7953"
            ],
            [
             0.7777777777777778,
             "#fb9f3a"
            ],
            [
             0.8888888888888888,
             "#fdca26"
            ],
            [
             1,
             "#f0f921"
            ]
           ],
           "sequentialminus": [
            [
             0,
             "#0d0887"
            ],
            [
             0.1111111111111111,
             "#46039f"
            ],
            [
             0.2222222222222222,
             "#7201a8"
            ],
            [
             0.3333333333333333,
             "#9c179e"
            ],
            [
             0.4444444444444444,
             "#bd3786"
            ],
            [
             0.5555555555555556,
             "#d8576b"
            ],
            [
             0.6666666666666666,
             "#ed7953"
            ],
            [
             0.7777777777777778,
             "#fb9f3a"
            ],
            [
             0.8888888888888888,
             "#fdca26"
            ],
            [
             1,
             "#f0f921"
            ]
           ]
          },
          "colorway": [
           "#636efa",
           "#EF553B",
           "#00cc96",
           "#ab63fa",
           "#FFA15A",
           "#19d3f3",
           "#FF6692",
           "#B6E880",
           "#FF97FF",
           "#FECB52"
          ],
          "font": {
           "color": "#2a3f5f"
          },
          "geo": {
           "bgcolor": "white",
           "lakecolor": "white",
           "landcolor": "#E5ECF6",
           "showlakes": true,
           "showland": true,
           "subunitcolor": "white"
          },
          "hoverlabel": {
           "align": "left"
          },
          "hovermode": "closest",
          "mapbox": {
           "style": "light"
          },
          "paper_bgcolor": "white",
          "plot_bgcolor": "#E5ECF6",
          "polar": {
           "angularaxis": {
            "gridcolor": "white",
            "linecolor": "white",
            "ticks": ""
           },
           "bgcolor": "#E5ECF6",
           "radialaxis": {
            "gridcolor": "white",
            "linecolor": "white",
            "ticks": ""
           }
          },
          "scene": {
           "xaxis": {
            "backgroundcolor": "#E5ECF6",
            "gridcolor": "white",
            "gridwidth": 2,
            "linecolor": "white",
            "showbackground": true,
            "ticks": "",
            "zerolinecolor": "white"
           },
           "yaxis": {
            "backgroundcolor": "#E5ECF6",
            "gridcolor": "white",
            "gridwidth": 2,
            "linecolor": "white",
            "showbackground": true,
            "ticks": "",
            "zerolinecolor": "white"
           },
           "zaxis": {
            "backgroundcolor": "#E5ECF6",
            "gridcolor": "white",
            "gridwidth": 2,
            "linecolor": "white",
            "showbackground": true,
            "ticks": "",
            "zerolinecolor": "white"
           }
          },
          "shapedefaults": {
           "line": {
            "color": "#2a3f5f"
           }
          },
          "ternary": {
           "aaxis": {
            "gridcolor": "white",
            "linecolor": "white",
            "ticks": ""
           },
           "baxis": {
            "gridcolor": "white",
            "linecolor": "white",
            "ticks": ""
           },
           "bgcolor": "#E5ECF6",
           "caxis": {
            "gridcolor": "white",
            "linecolor": "white",
            "ticks": ""
           }
          },
          "title": {
           "x": 0.05
          },
          "xaxis": {
           "automargin": true,
           "gridcolor": "white",
           "linecolor": "white",
           "ticks": "",
           "title": {
            "standoff": 15
           },
           "zerolinecolor": "white",
           "zerolinewidth": 2
          },
          "yaxis": {
           "automargin": true,
           "gridcolor": "white",
           "linecolor": "white",
           "ticks": "",
           "title": {
            "standoff": 15
           },
           "zerolinecolor": "white",
           "zerolinewidth": 2
          }
         }
        },
        "title": {
         "text": "Top10 Videos"
        },
        "width": 1000,
        "xaxis": {
         "anchor": "y",
         "domain": [
          0,
          1
         ],
         "title": {
          "text": "views"
         }
        },
        "yaxis": {
         "anchor": "x",
         "domain": [
          0,
          1
         ],
         "title": {
          "text": "Title"
         }
        }
       }
      }
     },
     "metadata": {},
     "output_type": "display_data"
    }
   ],
   "source": [
    "fig = px.bar(top_10_videos, x='views', y='Title', title=\"Top10 Videos\",width=1000, height=600)\n",
    "fig.show()"
   ]
  },
  {
   "cell_type": "code",
   "execution_count": 245,
   "metadata": {},
   "outputs": [],
   "source": [
    "video_data['Month'] = pd.to_datetime(video_data['Published_date']).dt.strftime('%b')"
   ]
  },
  {
   "cell_type": "code",
   "execution_count": 246,
   "metadata": {},
   "outputs": [
    {
     "data": {
      "text/html": [
       "<div>\n",
       "<style scoped>\n",
       "    .dataframe tbody tr th:only-of-type {\n",
       "        vertical-align: middle;\n",
       "    }\n",
       "\n",
       "    .dataframe tbody tr th {\n",
       "        vertical-align: top;\n",
       "    }\n",
       "\n",
       "    .dataframe thead th {\n",
       "        text-align: right;\n",
       "    }\n",
       "</style>\n",
       "<table border=\"1\" class=\"dataframe\">\n",
       "  <thead>\n",
       "    <tr style=\"text-align: right;\">\n",
       "      <th></th>\n",
       "      <th>Title</th>\n",
       "      <th>Published_date</th>\n",
       "      <th>views</th>\n",
       "      <th>likes</th>\n",
       "      <th>Comments</th>\n",
       "      <th>Month</th>\n",
       "    </tr>\n",
       "  </thead>\n",
       "  <tbody>\n",
       "    <tr>\n",
       "      <th>0</th>\n",
       "      <td>How to Build an AI Project Portfolio (Beginner...</td>\n",
       "      <td>2024-09-28</td>\n",
       "      <td>32491</td>\n",
       "      <td>1227</td>\n",
       "      <td>28</td>\n",
       "      <td>Sep</td>\n",
       "    </tr>\n",
       "    <tr>\n",
       "      <th>1</th>\n",
       "      <td>Extracting Structured Data From PDFs | Full Py...</td>\n",
       "      <td>2024-09-19</td>\n",
       "      <td>66925</td>\n",
       "      <td>2781</td>\n",
       "      <td>107</td>\n",
       "      <td>Sep</td>\n",
       "    </tr>\n",
       "    <tr>\n",
       "      <th>2</th>\n",
       "      <td>I Studied Data Job Trends for 24 Hours to Save...</td>\n",
       "      <td>2024-07-11</td>\n",
       "      <td>297230</td>\n",
       "      <td>8948</td>\n",
       "      <td>332</td>\n",
       "      <td>Jul</td>\n",
       "    </tr>\n",
       "    <tr>\n",
       "      <th>3</th>\n",
       "      <td>How I Would Learn Python FAST (if I could star...</td>\n",
       "      <td>2024-06-19</td>\n",
       "      <td>749094</td>\n",
       "      <td>28038</td>\n",
       "      <td>948</td>\n",
       "      <td>Jun</td>\n",
       "    </tr>\n",
       "    <tr>\n",
       "      <th>4</th>\n",
       "      <td>How I found time for everything with a fulltim...</td>\n",
       "      <td>2024-06-02</td>\n",
       "      <td>29496</td>\n",
       "      <td>1319</td>\n",
       "      <td>61</td>\n",
       "      <td>Jun</td>\n",
       "    </tr>\n",
       "    <tr>\n",
       "      <th>5</th>\n",
       "      <td>Is It Too Late To Become a Data Analyst?  | Ca...</td>\n",
       "      <td>2024-05-31</td>\n",
       "      <td>10875</td>\n",
       "      <td>374</td>\n",
       "      <td>19</td>\n",
       "      <td>May</td>\n",
       "    </tr>\n",
       "    <tr>\n",
       "      <th>6</th>\n",
       "      <td>I didn't worry about climate change, until I s...</td>\n",
       "      <td>2024-04-10</td>\n",
       "      <td>5387</td>\n",
       "      <td>225</td>\n",
       "      <td>62</td>\n",
       "      <td>Apr</td>\n",
       "    </tr>\n",
       "    <tr>\n",
       "      <th>7</th>\n",
       "      <td>How to Land a Job Using AI Tools</td>\n",
       "      <td>2024-03-07</td>\n",
       "      <td>20875</td>\n",
       "      <td>752</td>\n",
       "      <td>34</td>\n",
       "      <td>Mar</td>\n",
       "    </tr>\n",
       "    <tr>\n",
       "      <th>8</th>\n",
       "      <td>What I've Learned Reading These 7 Books about AI</td>\n",
       "      <td>2024-02-09</td>\n",
       "      <td>37913</td>\n",
       "      <td>1503</td>\n",
       "      <td>52</td>\n",
       "      <td>Feb</td>\n",
       "    </tr>\n",
       "    <tr>\n",
       "      <th>9</th>\n",
       "      <td>I Analyzed My Finance With Local LLMs</td>\n",
       "      <td>2024-01-31</td>\n",
       "      <td>504766</td>\n",
       "      <td>16187</td>\n",
       "      <td>426</td>\n",
       "      <td>Jan</td>\n",
       "    </tr>\n",
       "    <tr>\n",
       "      <th>10</th>\n",
       "      <td>Should You Still Learn Data Analytics? (in 2024)</td>\n",
       "      <td>2023-12-30</td>\n",
       "      <td>142199</td>\n",
       "      <td>4110</td>\n",
       "      <td>176</td>\n",
       "      <td>Dec</td>\n",
       "    </tr>\n",
       "    <tr>\n",
       "      <th>11</th>\n",
       "      <td>How I'd Learn AI (If I Had to Start Over)</td>\n",
       "      <td>2023-11-29</td>\n",
       "      <td>901505</td>\n",
       "      <td>33490</td>\n",
       "      <td>638</td>\n",
       "      <td>Nov</td>\n",
       "    </tr>\n",
       "    <tr>\n",
       "      <th>12</th>\n",
       "      <td>Should You Still Learn to Code in 2024? #codin...</td>\n",
       "      <td>2023-11-12</td>\n",
       "      <td>16278</td>\n",
       "      <td>772</td>\n",
       "      <td>18</td>\n",
       "      <td>Nov</td>\n",
       "    </tr>\n",
       "    <tr>\n",
       "      <th>13</th>\n",
       "      <td>I Created a Custom GPT for Data Science Nerds ...</td>\n",
       "      <td>2023-11-11</td>\n",
       "      <td>98368</td>\n",
       "      <td>1731</td>\n",
       "      <td>85</td>\n",
       "      <td>Nov</td>\n",
       "    </tr>\n",
       "    <tr>\n",
       "      <th>14</th>\n",
       "      <td>How NOT to Get Replaced by AI (as a data profe...</td>\n",
       "      <td>2023-10-16</td>\n",
       "      <td>13751</td>\n",
       "      <td>684</td>\n",
       "      <td>45</td>\n",
       "      <td>Oct</td>\n",
       "    </tr>\n",
       "    <tr>\n",
       "      <th>15</th>\n",
       "      <td>📚 BEST AI Books to Read in 2023</td>\n",
       "      <td>2023-10-09</td>\n",
       "      <td>35081</td>\n",
       "      <td>2880</td>\n",
       "      <td>22</td>\n",
       "      <td>Oct</td>\n",
       "    </tr>\n",
       "    <tr>\n",
       "      <th>16</th>\n",
       "      <td>Doing Data Analysis on Sensitive Data (ft. Obl...</td>\n",
       "      <td>2023-08-22</td>\n",
       "      <td>7202</td>\n",
       "      <td>306</td>\n",
       "      <td>32</td>\n",
       "      <td>Aug</td>\n",
       "    </tr>\n",
       "    <tr>\n",
       "      <th>17</th>\n",
       "      <td>I Tried ChatGPT Code Interpreter for Data Task...</td>\n",
       "      <td>2023-07-15</td>\n",
       "      <td>46213</td>\n",
       "      <td>2204</td>\n",
       "      <td>55</td>\n",
       "      <td>Jul</td>\n",
       "    </tr>\n",
       "    <tr>\n",
       "      <th>18</th>\n",
       "      <td>40 Data Science Tips I Wish I Knew Sooner</td>\n",
       "      <td>2023-07-08</td>\n",
       "      <td>26632</td>\n",
       "      <td>1037</td>\n",
       "      <td>72</td>\n",
       "      <td>Jul</td>\n",
       "    </tr>\n",
       "    <tr>\n",
       "      <th>19</th>\n",
       "      <td>Self-taught vs. Guided Program: CareerFoundry'...</td>\n",
       "      <td>2023-06-16</td>\n",
       "      <td>10259</td>\n",
       "      <td>280</td>\n",
       "      <td>40</td>\n",
       "      <td>Jun</td>\n",
       "    </tr>\n",
       "    <tr>\n",
       "      <th>20</th>\n",
       "      <td>Is a Computer Science Degree WORTHLESS 🤯? (in ...</td>\n",
       "      <td>2023-06-08</td>\n",
       "      <td>31644</td>\n",
       "      <td>886</td>\n",
       "      <td>81</td>\n",
       "      <td>Jun</td>\n",
       "    </tr>\n",
       "    <tr>\n",
       "      <th>21</th>\n",
       "      <td>ChatGPT + Jupyter Notebook = Mindblowing! 🤩</td>\n",
       "      <td>2023-05-28</td>\n",
       "      <td>41709</td>\n",
       "      <td>1415</td>\n",
       "      <td>82</td>\n",
       "      <td>May</td>\n",
       "    </tr>\n",
       "    <tr>\n",
       "      <th>22</th>\n",
       "      <td>Love ❤️ JupyterCon Paris 2023</td>\n",
       "      <td>2023-05-22</td>\n",
       "      <td>7552</td>\n",
       "      <td>496</td>\n",
       "      <td>15</td>\n",
       "      <td>May</td>\n",
       "    </tr>\n",
       "    <tr>\n",
       "      <th>23</th>\n",
       "      <td>AI replacing jobs, mistakes, relationships (an...</td>\n",
       "      <td>2023-05-15</td>\n",
       "      <td>6371</td>\n",
       "      <td>290</td>\n",
       "      <td>35</td>\n",
       "      <td>May</td>\n",
       "    </tr>\n",
       "    <tr>\n",
       "      <th>24</th>\n",
       "      <td>Will ChatGPT Code Interpreter Replace Data Ana...</td>\n",
       "      <td>2023-05-12</td>\n",
       "      <td>68931</td>\n",
       "      <td>3535</td>\n",
       "      <td>67</td>\n",
       "      <td>May</td>\n",
       "    </tr>\n",
       "    <tr>\n",
       "      <th>25</th>\n",
       "      <td>How to Deploy Machine Learning Models (ft. Run...</td>\n",
       "      <td>2023-05-10</td>\n",
       "      <td>111957</td>\n",
       "      <td>1809</td>\n",
       "      <td>46</td>\n",
       "      <td>May</td>\n",
       "    </tr>\n",
       "    <tr>\n",
       "      <th>26</th>\n",
       "      <td>Will AI be THE END of us?</td>\n",
       "      <td>2023-04-21</td>\n",
       "      <td>8983</td>\n",
       "      <td>378</td>\n",
       "      <td>50</td>\n",
       "      <td>Apr</td>\n",
       "    </tr>\n",
       "    <tr>\n",
       "      <th>27</th>\n",
       "      <td>How I'd Learn to Become a Data Analyst</td>\n",
       "      <td>2023-04-09</td>\n",
       "      <td>547648</td>\n",
       "      <td>32277</td>\n",
       "      <td>119</td>\n",
       "      <td>Apr</td>\n",
       "    </tr>\n",
       "    <tr>\n",
       "      <th>28</th>\n",
       "      <td>Roadmap for Transitioning to Data Analytics in...</td>\n",
       "      <td>2023-03-31</td>\n",
       "      <td>469177</td>\n",
       "      <td>18228</td>\n",
       "      <td>362</td>\n",
       "      <td>Mar</td>\n",
       "    </tr>\n",
       "    <tr>\n",
       "      <th>29</th>\n",
       "      <td>If Learning Data Science Is Like Rock Climbing</td>\n",
       "      <td>2023-03-19</td>\n",
       "      <td>26428</td>\n",
       "      <td>1513</td>\n",
       "      <td>28</td>\n",
       "      <td>Mar</td>\n",
       "    </tr>\n",
       "    <tr>\n",
       "      <th>30</th>\n",
       "      <td>Building a Chatbot with ChatGPT API and Reddit...</td>\n",
       "      <td>2023-03-15</td>\n",
       "      <td>53032</td>\n",
       "      <td>2321</td>\n",
       "      <td>122</td>\n",
       "      <td>Mar</td>\n",
       "    </tr>\n",
       "    <tr>\n",
       "      <th>31</th>\n",
       "      <td>I asked ChatGPT to do EDA for me: Here's how i...</td>\n",
       "      <td>2023-02-26</td>\n",
       "      <td>360836</td>\n",
       "      <td>12496</td>\n",
       "      <td>141</td>\n",
       "      <td>Feb</td>\n",
       "    </tr>\n",
       "    <tr>\n",
       "      <th>32</th>\n",
       "      <td>Math for Machine Learning and Data Science Spe...</td>\n",
       "      <td>2023-02-16</td>\n",
       "      <td>60881</td>\n",
       "      <td>2835</td>\n",
       "      <td>92</td>\n",
       "      <td>Feb</td>\n",
       "    </tr>\n",
       "    <tr>\n",
       "      <th>33</th>\n",
       "      <td>Will AI Replace Data Scientists? 🤔</td>\n",
       "      <td>2023-02-04</td>\n",
       "      <td>68965</td>\n",
       "      <td>1973</td>\n",
       "      <td>211</td>\n",
       "      <td>Feb</td>\n",
       "    </tr>\n",
       "    <tr>\n",
       "      <th>34</th>\n",
       "      <td>My Entire Process for Doing Data Science Proje...</td>\n",
       "      <td>2023-01-23</td>\n",
       "      <td>51734</td>\n",
       "      <td>2148</td>\n",
       "      <td>96</td>\n",
       "      <td>Jan</td>\n",
       "    </tr>\n",
       "    <tr>\n",
       "      <th>35</th>\n",
       "      <td>How to ACTUALLY Achieve Your Data Science Goal...</td>\n",
       "      <td>2022-12-30</td>\n",
       "      <td>23777</td>\n",
       "      <td>906</td>\n",
       "      <td>41</td>\n",
       "      <td>Dec</td>\n",
       "    </tr>\n",
       "    <tr>\n",
       "      <th>36</th>\n",
       "      <td>Full Stack Data Science Roadmap 2024</td>\n",
       "      <td>2022-12-22</td>\n",
       "      <td>172777</td>\n",
       "      <td>6650</td>\n",
       "      <td>182</td>\n",
       "      <td>Dec</td>\n",
       "    </tr>\n",
       "    <tr>\n",
       "      <th>37</th>\n",
       "      <td>RECESSION 2023: Should You Worry About Data Sc...</td>\n",
       "      <td>2022-12-05</td>\n",
       "      <td>43538</td>\n",
       "      <td>1727</td>\n",
       "      <td>83</td>\n",
       "      <td>Dec</td>\n",
       "    </tr>\n",
       "    <tr>\n",
       "      <th>38</th>\n",
       "      <td>DON'T DO THIS: Revealing biggest mistakes in d...</td>\n",
       "      <td>2022-11-25</td>\n",
       "      <td>41235</td>\n",
       "      <td>1892</td>\n",
       "      <td>93</td>\n",
       "      <td>Nov</td>\n",
       "    </tr>\n",
       "    <tr>\n",
       "      <th>39</th>\n",
       "      <td>💡Awesome Data Portfolio Project Ideas #shorts ...</td>\n",
       "      <td>2022-11-16</td>\n",
       "      <td>258230</td>\n",
       "      <td>20147</td>\n",
       "      <td>107</td>\n",
       "      <td>Nov</td>\n",
       "    </tr>\n",
       "    <tr>\n",
       "      <th>40</th>\n",
       "      <td>📚3 In-Depth Machine Learning Books You Can't M...</td>\n",
       "      <td>2022-11-13</td>\n",
       "      <td>84759</td>\n",
       "      <td>7356</td>\n",
       "      <td>56</td>\n",
       "      <td>Nov</td>\n",
       "    </tr>\n",
       "    <tr>\n",
       "      <th>41</th>\n",
       "      <td>I Analyzed 1000 Data Science Books on Amazon: ...</td>\n",
       "      <td>2022-11-10</td>\n",
       "      <td>144609</td>\n",
       "      <td>5166</td>\n",
       "      <td>196</td>\n",
       "      <td>Nov</td>\n",
       "    </tr>\n",
       "    <tr>\n",
       "      <th>42</th>\n",
       "      <td>Moving Abroad, Data Science Careers, Job Searc...</td>\n",
       "      <td>2022-10-24</td>\n",
       "      <td>25042</td>\n",
       "      <td>994</td>\n",
       "      <td>73</td>\n",
       "      <td>Oct</td>\n",
       "    </tr>\n",
       "    <tr>\n",
       "      <th>43</th>\n",
       "      <td>Best Data Science Books for Beginners 📚</td>\n",
       "      <td>2022-10-08</td>\n",
       "      <td>372189</td>\n",
       "      <td>19326</td>\n",
       "      <td>272</td>\n",
       "      <td>Oct</td>\n",
       "    </tr>\n",
       "    <tr>\n",
       "      <th>44</th>\n",
       "      <td>Top Courses to Learn Data Science Skills FAST!</td>\n",
       "      <td>2022-09-27</td>\n",
       "      <td>179696</td>\n",
       "      <td>8777</td>\n",
       "      <td>174</td>\n",
       "      <td>Sep</td>\n",
       "    </tr>\n",
       "    <tr>\n",
       "      <th>45</th>\n",
       "      <td>Learn Data Science on iPad | Coding on iPad, n...</td>\n",
       "      <td>2022-09-16</td>\n",
       "      <td>86754</td>\n",
       "      <td>1867</td>\n",
       "      <td>62</td>\n",
       "      <td>Sep</td>\n",
       "    </tr>\n",
       "    <tr>\n",
       "      <th>46</th>\n",
       "      <td>The Best Jupyterlab Extension That You Didn't ...</td>\n",
       "      <td>2022-09-05</td>\n",
       "      <td>160853</td>\n",
       "      <td>2681</td>\n",
       "      <td>114</td>\n",
       "      <td>Sep</td>\n",
       "    </tr>\n",
       "    <tr>\n",
       "      <th>47</th>\n",
       "      <td>👩🏻‍💻 How I Self-Study Anything (as a Data Scie...</td>\n",
       "      <td>2022-08-15</td>\n",
       "      <td>438939</td>\n",
       "      <td>22456</td>\n",
       "      <td>371</td>\n",
       "      <td>Aug</td>\n",
       "    </tr>\n",
       "    <tr>\n",
       "      <th>48</th>\n",
       "      <td>👩🏻‍💻 How to Create a Python Dashboard for Audi...</td>\n",
       "      <td>2022-08-02</td>\n",
       "      <td>15413</td>\n",
       "      <td>635</td>\n",
       "      <td>68</td>\n",
       "      <td>Aug</td>\n",
       "    </tr>\n",
       "    <tr>\n",
       "      <th>49</th>\n",
       "      <td>What I Learned in My Online BSc Computer Scien...</td>\n",
       "      <td>2022-07-10</td>\n",
       "      <td>160122</td>\n",
       "      <td>5326</td>\n",
       "      <td>438</td>\n",
       "      <td>Jul</td>\n",
       "    </tr>\n",
       "  </tbody>\n",
       "</table>\n",
       "</div>"
      ],
      "text/plain": [
       "                                                Title Published_date   views  \\\n",
       "0   How to Build an AI Project Portfolio (Beginner...     2024-09-28   32491   \n",
       "1   Extracting Structured Data From PDFs | Full Py...     2024-09-19   66925   \n",
       "2   I Studied Data Job Trends for 24 Hours to Save...     2024-07-11  297230   \n",
       "3   How I Would Learn Python FAST (if I could star...     2024-06-19  749094   \n",
       "4   How I found time for everything with a fulltim...     2024-06-02   29496   \n",
       "5   Is It Too Late To Become a Data Analyst?  | Ca...     2024-05-31   10875   \n",
       "6   I didn't worry about climate change, until I s...     2024-04-10    5387   \n",
       "7                    How to Land a Job Using AI Tools     2024-03-07   20875   \n",
       "8    What I've Learned Reading These 7 Books about AI     2024-02-09   37913   \n",
       "9               I Analyzed My Finance With Local LLMs     2024-01-31  504766   \n",
       "10   Should You Still Learn Data Analytics? (in 2024)     2023-12-30  142199   \n",
       "11          How I'd Learn AI (If I Had to Start Over)     2023-11-29  901505   \n",
       "12  Should You Still Learn to Code in 2024? #codin...     2023-11-12   16278   \n",
       "13  I Created a Custom GPT for Data Science Nerds ...     2023-11-11   98368   \n",
       "14  How NOT to Get Replaced by AI (as a data profe...     2023-10-16   13751   \n",
       "15                    📚 BEST AI Books to Read in 2023     2023-10-09   35081   \n",
       "16  Doing Data Analysis on Sensitive Data (ft. Obl...     2023-08-22    7202   \n",
       "17  I Tried ChatGPT Code Interpreter for Data Task...     2023-07-15   46213   \n",
       "18          40 Data Science Tips I Wish I Knew Sooner     2023-07-08   26632   \n",
       "19  Self-taught vs. Guided Program: CareerFoundry'...     2023-06-16   10259   \n",
       "20  Is a Computer Science Degree WORTHLESS 🤯? (in ...     2023-06-08   31644   \n",
       "21        ChatGPT + Jupyter Notebook = Mindblowing! 🤩     2023-05-28   41709   \n",
       "22                      Love ❤️ JupyterCon Paris 2023     2023-05-22    7552   \n",
       "23  AI replacing jobs, mistakes, relationships (an...     2023-05-15    6371   \n",
       "24  Will ChatGPT Code Interpreter Replace Data Ana...     2023-05-12   68931   \n",
       "25  How to Deploy Machine Learning Models (ft. Run...     2023-05-10  111957   \n",
       "26                          Will AI be THE END of us?     2023-04-21    8983   \n",
       "27             How I'd Learn to Become a Data Analyst     2023-04-09  547648   \n",
       "28  Roadmap for Transitioning to Data Analytics in...     2023-03-31  469177   \n",
       "29     If Learning Data Science Is Like Rock Climbing     2023-03-19   26428   \n",
       "30  Building a Chatbot with ChatGPT API and Reddit...     2023-03-15   53032   \n",
       "31  I asked ChatGPT to do EDA for me: Here's how i...     2023-02-26  360836   \n",
       "32  Math for Machine Learning and Data Science Spe...     2023-02-16   60881   \n",
       "33                 Will AI Replace Data Scientists? 🤔     2023-02-04   68965   \n",
       "34  My Entire Process for Doing Data Science Proje...     2023-01-23   51734   \n",
       "35  How to ACTUALLY Achieve Your Data Science Goal...     2022-12-30   23777   \n",
       "36               Full Stack Data Science Roadmap 2024     2022-12-22  172777   \n",
       "37  RECESSION 2023: Should You Worry About Data Sc...     2022-12-05   43538   \n",
       "38  DON'T DO THIS: Revealing biggest mistakes in d...     2022-11-25   41235   \n",
       "39  💡Awesome Data Portfolio Project Ideas #shorts ...     2022-11-16  258230   \n",
       "40  📚3 In-Depth Machine Learning Books You Can't M...     2022-11-13   84759   \n",
       "41  I Analyzed 1000 Data Science Books on Amazon: ...     2022-11-10  144609   \n",
       "42  Moving Abroad, Data Science Careers, Job Searc...     2022-10-24   25042   \n",
       "43            Best Data Science Books for Beginners 📚     2022-10-08  372189   \n",
       "44     Top Courses to Learn Data Science Skills FAST!     2022-09-27  179696   \n",
       "45  Learn Data Science on iPad | Coding on iPad, n...     2022-09-16   86754   \n",
       "46  The Best Jupyterlab Extension That You Didn't ...     2022-09-05  160853   \n",
       "47  👩🏻‍💻 How I Self-Study Anything (as a Data Scie...     2022-08-15  438939   \n",
       "48  👩🏻‍💻 How to Create a Python Dashboard for Audi...     2022-08-02   15413   \n",
       "49  What I Learned in My Online BSc Computer Scien...     2022-07-10  160122   \n",
       "\n",
       "    likes  Comments Month  \n",
       "0    1227        28   Sep  \n",
       "1    2781       107   Sep  \n",
       "2    8948       332   Jul  \n",
       "3   28038       948   Jun  \n",
       "4    1319        61   Jun  \n",
       "5     374        19   May  \n",
       "6     225        62   Apr  \n",
       "7     752        34   Mar  \n",
       "8    1503        52   Feb  \n",
       "9   16187       426   Jan  \n",
       "10   4110       176   Dec  \n",
       "11  33490       638   Nov  \n",
       "12    772        18   Nov  \n",
       "13   1731        85   Nov  \n",
       "14    684        45   Oct  \n",
       "15   2880        22   Oct  \n",
       "16    306        32   Aug  \n",
       "17   2204        55   Jul  \n",
       "18   1037        72   Jul  \n",
       "19    280        40   Jun  \n",
       "20    886        81   Jun  \n",
       "21   1415        82   May  \n",
       "22    496        15   May  \n",
       "23    290        35   May  \n",
       "24   3535        67   May  \n",
       "25   1809        46   May  \n",
       "26    378        50   Apr  \n",
       "27  32277       119   Apr  \n",
       "28  18228       362   Mar  \n",
       "29   1513        28   Mar  \n",
       "30   2321       122   Mar  \n",
       "31  12496       141   Feb  \n",
       "32   2835        92   Feb  \n",
       "33   1973       211   Feb  \n",
       "34   2148        96   Jan  \n",
       "35    906        41   Dec  \n",
       "36   6650       182   Dec  \n",
       "37   1727        83   Dec  \n",
       "38   1892        93   Nov  \n",
       "39  20147       107   Nov  \n",
       "40   7356        56   Nov  \n",
       "41   5166       196   Nov  \n",
       "42    994        73   Oct  \n",
       "43  19326       272   Oct  \n",
       "44   8777       174   Sep  \n",
       "45   1867        62   Sep  \n",
       "46   2681       114   Sep  \n",
       "47  22456       371   Aug  \n",
       "48    635        68   Aug  \n",
       "49   5326       438   Jul  "
      ]
     },
     "execution_count": 246,
     "metadata": {},
     "output_type": "execute_result"
    }
   ],
   "source": [
    "video_data"
   ]
  },
  {
   "cell_type": "code",
   "execution_count": 249,
   "metadata": {},
   "outputs": [],
   "source": [
    "video_per_month = video_data.groupby('Month',as_index=False).size()"
   ]
  },
  {
   "cell_type": "code",
   "execution_count": 253,
   "metadata": {},
   "outputs": [
    {
     "data": {
      "text/html": [
       "<div>\n",
       "<style scoped>\n",
       "    .dataframe tbody tr th:only-of-type {\n",
       "        vertical-align: middle;\n",
       "    }\n",
       "\n",
       "    .dataframe tbody tr th {\n",
       "        vertical-align: top;\n",
       "    }\n",
       "\n",
       "    .dataframe thead th {\n",
       "        text-align: right;\n",
       "    }\n",
       "</style>\n",
       "<table border=\"1\" class=\"dataframe\">\n",
       "  <thead>\n",
       "    <tr style=\"text-align: right;\">\n",
       "      <th></th>\n",
       "      <th>Month</th>\n",
       "      <th>size</th>\n",
       "    </tr>\n",
       "  </thead>\n",
       "  <tbody>\n",
       "    <tr>\n",
       "      <th>0</th>\n",
       "      <td>Apr</td>\n",
       "      <td>3</td>\n",
       "    </tr>\n",
       "    <tr>\n",
       "      <th>1</th>\n",
       "      <td>Aug</td>\n",
       "      <td>3</td>\n",
       "    </tr>\n",
       "    <tr>\n",
       "      <th>2</th>\n",
       "      <td>Dec</td>\n",
       "      <td>4</td>\n",
       "    </tr>\n",
       "    <tr>\n",
       "      <th>3</th>\n",
       "      <td>Feb</td>\n",
       "      <td>4</td>\n",
       "    </tr>\n",
       "    <tr>\n",
       "      <th>4</th>\n",
       "      <td>Jan</td>\n",
       "      <td>2</td>\n",
       "    </tr>\n",
       "    <tr>\n",
       "      <th>5</th>\n",
       "      <td>Jul</td>\n",
       "      <td>4</td>\n",
       "    </tr>\n",
       "    <tr>\n",
       "      <th>6</th>\n",
       "      <td>Jun</td>\n",
       "      <td>4</td>\n",
       "    </tr>\n",
       "    <tr>\n",
       "      <th>7</th>\n",
       "      <td>Mar</td>\n",
       "      <td>4</td>\n",
       "    </tr>\n",
       "    <tr>\n",
       "      <th>8</th>\n",
       "      <td>May</td>\n",
       "      <td>6</td>\n",
       "    </tr>\n",
       "    <tr>\n",
       "      <th>9</th>\n",
       "      <td>Nov</td>\n",
       "      <td>7</td>\n",
       "    </tr>\n",
       "    <tr>\n",
       "      <th>10</th>\n",
       "      <td>Oct</td>\n",
       "      <td>4</td>\n",
       "    </tr>\n",
       "    <tr>\n",
       "      <th>11</th>\n",
       "      <td>Sep</td>\n",
       "      <td>5</td>\n",
       "    </tr>\n",
       "  </tbody>\n",
       "</table>\n",
       "</div>"
      ],
      "text/plain": [
       "   Month  size\n",
       "0    Apr     3\n",
       "1    Aug     3\n",
       "2    Dec     4\n",
       "3    Feb     4\n",
       "4    Jan     2\n",
       "5    Jul     4\n",
       "6    Jun     4\n",
       "7    Mar     4\n",
       "8    May     6\n",
       "9    Nov     7\n",
       "10   Oct     4\n",
       "11   Sep     5"
      ]
     },
     "execution_count": 253,
     "metadata": {},
     "output_type": "execute_result"
    }
   ],
   "source": [
    "video_per_month"
   ]
  },
  {
   "cell_type": "code",
   "execution_count": 251,
   "metadata": {},
   "outputs": [],
   "source": [
    "sort_order =['Jan','Feb','Mar','Apr','May','Jun','Jul','Aug','Sep','Oct','Nov','Dec']"
   ]
  },
  {
   "cell_type": "code",
   "execution_count": 254,
   "metadata": {},
   "outputs": [],
   "source": [
    "video_per_month.index = pd.CategoricalIndex(video_per_month['Month'],categories=sort_order,ordered= True)"
   ]
  },
  {
   "cell_type": "code",
   "execution_count": 255,
   "metadata": {},
   "outputs": [
    {
     "data": {
      "text/html": [
       "<div>\n",
       "<style scoped>\n",
       "    .dataframe tbody tr th:only-of-type {\n",
       "        vertical-align: middle;\n",
       "    }\n",
       "\n",
       "    .dataframe tbody tr th {\n",
       "        vertical-align: top;\n",
       "    }\n",
       "\n",
       "    .dataframe thead th {\n",
       "        text-align: right;\n",
       "    }\n",
       "</style>\n",
       "<table border=\"1\" class=\"dataframe\">\n",
       "  <thead>\n",
       "    <tr style=\"text-align: right;\">\n",
       "      <th></th>\n",
       "      <th>Month</th>\n",
       "      <th>size</th>\n",
       "    </tr>\n",
       "    <tr>\n",
       "      <th>Month</th>\n",
       "      <th></th>\n",
       "      <th></th>\n",
       "    </tr>\n",
       "  </thead>\n",
       "  <tbody>\n",
       "    <tr>\n",
       "      <th>Jan</th>\n",
       "      <td>Jan</td>\n",
       "      <td>2</td>\n",
       "    </tr>\n",
       "    <tr>\n",
       "      <th>Feb</th>\n",
       "      <td>Feb</td>\n",
       "      <td>4</td>\n",
       "    </tr>\n",
       "    <tr>\n",
       "      <th>Mar</th>\n",
       "      <td>Mar</td>\n",
       "      <td>4</td>\n",
       "    </tr>\n",
       "    <tr>\n",
       "      <th>Apr</th>\n",
       "      <td>Apr</td>\n",
       "      <td>3</td>\n",
       "    </tr>\n",
       "    <tr>\n",
       "      <th>May</th>\n",
       "      <td>May</td>\n",
       "      <td>6</td>\n",
       "    </tr>\n",
       "    <tr>\n",
       "      <th>Jun</th>\n",
       "      <td>Jun</td>\n",
       "      <td>4</td>\n",
       "    </tr>\n",
       "    <tr>\n",
       "      <th>Jul</th>\n",
       "      <td>Jul</td>\n",
       "      <td>4</td>\n",
       "    </tr>\n",
       "    <tr>\n",
       "      <th>Aug</th>\n",
       "      <td>Aug</td>\n",
       "      <td>3</td>\n",
       "    </tr>\n",
       "    <tr>\n",
       "      <th>Sep</th>\n",
       "      <td>Sep</td>\n",
       "      <td>5</td>\n",
       "    </tr>\n",
       "    <tr>\n",
       "      <th>Oct</th>\n",
       "      <td>Oct</td>\n",
       "      <td>4</td>\n",
       "    </tr>\n",
       "    <tr>\n",
       "      <th>Nov</th>\n",
       "      <td>Nov</td>\n",
       "      <td>7</td>\n",
       "    </tr>\n",
       "    <tr>\n",
       "      <th>Dec</th>\n",
       "      <td>Dec</td>\n",
       "      <td>4</td>\n",
       "    </tr>\n",
       "  </tbody>\n",
       "</table>\n",
       "</div>"
      ],
      "text/plain": [
       "      Month  size\n",
       "Month            \n",
       "Jan     Jan     2\n",
       "Feb     Feb     4\n",
       "Mar     Mar     4\n",
       "Apr     Apr     3\n",
       "May     May     6\n",
       "Jun     Jun     4\n",
       "Jul     Jul     4\n",
       "Aug     Aug     3\n",
       "Sep     Sep     5\n",
       "Oct     Oct     4\n",
       "Nov     Nov     7\n",
       "Dec     Dec     4"
      ]
     },
     "execution_count": 255,
     "metadata": {},
     "output_type": "execute_result"
    }
   ],
   "source": [
    "video_per_month.sort_index()"
   ]
  },
  {
   "cell_type": "code",
   "execution_count": 258,
   "metadata": {},
   "outputs": [
    {
     "data": {
      "application/vnd.plotly.v1+json": {
       "config": {
        "plotlyServerURL": "https://plot.ly"
       },
       "data": [
        {
         "alignmentgroup": "True",
         "hovertemplate": "Month=%{x}<br>size=%{y}<extra></extra>",
         "legendgroup": "Apr",
         "marker": {
          "color": "rgb(141,211,199)",
          "pattern": {
           "shape": ""
          }
         },
         "name": "Apr",
         "offsetgroup": "Apr",
         "orientation": "v",
         "showlegend": true,
         "textposition": "auto",
         "type": "bar",
         "x": [
          "Apr"
         ],
         "xaxis": "x",
         "y": [
          3
         ],
         "yaxis": "y"
        },
        {
         "alignmentgroup": "True",
         "hovertemplate": "Month=%{x}<br>size=%{y}<extra></extra>",
         "legendgroup": "Aug",
         "marker": {
          "color": "rgb(255,255,179)",
          "pattern": {
           "shape": ""
          }
         },
         "name": "Aug",
         "offsetgroup": "Aug",
         "orientation": "v",
         "showlegend": true,
         "textposition": "auto",
         "type": "bar",
         "x": [
          "Aug"
         ],
         "xaxis": "x",
         "y": [
          3
         ],
         "yaxis": "y"
        },
        {
         "alignmentgroup": "True",
         "hovertemplate": "Month=%{x}<br>size=%{y}<extra></extra>",
         "legendgroup": "Dec",
         "marker": {
          "color": "rgb(190,186,218)",
          "pattern": {
           "shape": ""
          }
         },
         "name": "Dec",
         "offsetgroup": "Dec",
         "orientation": "v",
         "showlegend": true,
         "textposition": "auto",
         "type": "bar",
         "x": [
          "Dec"
         ],
         "xaxis": "x",
         "y": [
          4
         ],
         "yaxis": "y"
        },
        {
         "alignmentgroup": "True",
         "hovertemplate": "Month=%{x}<br>size=%{y}<extra></extra>",
         "legendgroup": "Feb",
         "marker": {
          "color": "rgb(251,128,114)",
          "pattern": {
           "shape": ""
          }
         },
         "name": "Feb",
         "offsetgroup": "Feb",
         "orientation": "v",
         "showlegend": true,
         "textposition": "auto",
         "type": "bar",
         "x": [
          "Feb"
         ],
         "xaxis": "x",
         "y": [
          4
         ],
         "yaxis": "y"
        },
        {
         "alignmentgroup": "True",
         "hovertemplate": "Month=%{x}<br>size=%{y}<extra></extra>",
         "legendgroup": "Jan",
         "marker": {
          "color": "rgb(128,177,211)",
          "pattern": {
           "shape": ""
          }
         },
         "name": "Jan",
         "offsetgroup": "Jan",
         "orientation": "v",
         "showlegend": true,
         "textposition": "auto",
         "type": "bar",
         "x": [
          "Jan"
         ],
         "xaxis": "x",
         "y": [
          2
         ],
         "yaxis": "y"
        },
        {
         "alignmentgroup": "True",
         "hovertemplate": "Month=%{x}<br>size=%{y}<extra></extra>",
         "legendgroup": "Jul",
         "marker": {
          "color": "rgb(253,180,98)",
          "pattern": {
           "shape": ""
          }
         },
         "name": "Jul",
         "offsetgroup": "Jul",
         "orientation": "v",
         "showlegend": true,
         "textposition": "auto",
         "type": "bar",
         "x": [
          "Jul"
         ],
         "xaxis": "x",
         "y": [
          4
         ],
         "yaxis": "y"
        },
        {
         "alignmentgroup": "True",
         "hovertemplate": "Month=%{x}<br>size=%{y}<extra></extra>",
         "legendgroup": "Jun",
         "marker": {
          "color": "rgb(179,222,105)",
          "pattern": {
           "shape": ""
          }
         },
         "name": "Jun",
         "offsetgroup": "Jun",
         "orientation": "v",
         "showlegend": true,
         "textposition": "auto",
         "type": "bar",
         "x": [
          "Jun"
         ],
         "xaxis": "x",
         "y": [
          4
         ],
         "yaxis": "y"
        },
        {
         "alignmentgroup": "True",
         "hovertemplate": "Month=%{x}<br>size=%{y}<extra></extra>",
         "legendgroup": "Mar",
         "marker": {
          "color": "rgb(252,205,229)",
          "pattern": {
           "shape": ""
          }
         },
         "name": "Mar",
         "offsetgroup": "Mar",
         "orientation": "v",
         "showlegend": true,
         "textposition": "auto",
         "type": "bar",
         "x": [
          "Mar"
         ],
         "xaxis": "x",
         "y": [
          4
         ],
         "yaxis": "y"
        },
        {
         "alignmentgroup": "True",
         "hovertemplate": "Month=%{x}<br>size=%{y}<extra></extra>",
         "legendgroup": "May",
         "marker": {
          "color": "rgb(217,217,217)",
          "pattern": {
           "shape": ""
          }
         },
         "name": "May",
         "offsetgroup": "May",
         "orientation": "v",
         "showlegend": true,
         "textposition": "auto",
         "type": "bar",
         "x": [
          "May"
         ],
         "xaxis": "x",
         "y": [
          6
         ],
         "yaxis": "y"
        },
        {
         "alignmentgroup": "True",
         "hovertemplate": "Month=%{x}<br>size=%{y}<extra></extra>",
         "legendgroup": "Nov",
         "marker": {
          "color": "rgb(188,128,189)",
          "pattern": {
           "shape": ""
          }
         },
         "name": "Nov",
         "offsetgroup": "Nov",
         "orientation": "v",
         "showlegend": true,
         "textposition": "auto",
         "type": "bar",
         "x": [
          "Nov"
         ],
         "xaxis": "x",
         "y": [
          7
         ],
         "yaxis": "y"
        },
        {
         "alignmentgroup": "True",
         "hovertemplate": "Month=%{x}<br>size=%{y}<extra></extra>",
         "legendgroup": "Oct",
         "marker": {
          "color": "rgb(204,235,197)",
          "pattern": {
           "shape": ""
          }
         },
         "name": "Oct",
         "offsetgroup": "Oct",
         "orientation": "v",
         "showlegend": true,
         "textposition": "auto",
         "type": "bar",
         "x": [
          "Oct"
         ],
         "xaxis": "x",
         "y": [
          4
         ],
         "yaxis": "y"
        },
        {
         "alignmentgroup": "True",
         "hovertemplate": "Month=%{x}<br>size=%{y}<extra></extra>",
         "legendgroup": "Sep",
         "marker": {
          "color": "rgb(255,237,111)",
          "pattern": {
           "shape": ""
          }
         },
         "name": "Sep",
         "offsetgroup": "Sep",
         "orientation": "v",
         "showlegend": true,
         "textposition": "auto",
         "type": "bar",
         "x": [
          "Sep"
         ],
         "xaxis": "x",
         "y": [
          5
         ],
         "yaxis": "y"
        }
       ],
       "layout": {
        "barmode": "relative",
        "legend": {
         "title": {
          "text": "Month"
         },
         "tracegroupgap": 0
        },
        "template": {
         "data": {
          "bar": [
           {
            "error_x": {
             "color": "#2a3f5f"
            },
            "error_y": {
             "color": "#2a3f5f"
            },
            "marker": {
             "line": {
              "color": "#E5ECF6",
              "width": 0.5
             },
             "pattern": {
              "fillmode": "overlay",
              "size": 10,
              "solidity": 0.2
             }
            },
            "type": "bar"
           }
          ],
          "barpolar": [
           {
            "marker": {
             "line": {
              "color": "#E5ECF6",
              "width": 0.5
             },
             "pattern": {
              "fillmode": "overlay",
              "size": 10,
              "solidity": 0.2
             }
            },
            "type": "barpolar"
           }
          ],
          "carpet": [
           {
            "aaxis": {
             "endlinecolor": "#2a3f5f",
             "gridcolor": "white",
             "linecolor": "white",
             "minorgridcolor": "white",
             "startlinecolor": "#2a3f5f"
            },
            "baxis": {
             "endlinecolor": "#2a3f5f",
             "gridcolor": "white",
             "linecolor": "white",
             "minorgridcolor": "white",
             "startlinecolor": "#2a3f5f"
            },
            "type": "carpet"
           }
          ],
          "choropleth": [
           {
            "colorbar": {
             "outlinewidth": 0,
             "ticks": ""
            },
            "type": "choropleth"
           }
          ],
          "contour": [
           {
            "colorbar": {
             "outlinewidth": 0,
             "ticks": ""
            },
            "colorscale": [
             [
              0,
              "#0d0887"
             ],
             [
              0.1111111111111111,
              "#46039f"
             ],
             [
              0.2222222222222222,
              "#7201a8"
             ],
             [
              0.3333333333333333,
              "#9c179e"
             ],
             [
              0.4444444444444444,
              "#bd3786"
             ],
             [
              0.5555555555555556,
              "#d8576b"
             ],
             [
              0.6666666666666666,
              "#ed7953"
             ],
             [
              0.7777777777777778,
              "#fb9f3a"
             ],
             [
              0.8888888888888888,
              "#fdca26"
             ],
             [
              1,
              "#f0f921"
             ]
            ],
            "type": "contour"
           }
          ],
          "contourcarpet": [
           {
            "colorbar": {
             "outlinewidth": 0,
             "ticks": ""
            },
            "type": "contourcarpet"
           }
          ],
          "heatmap": [
           {
            "colorbar": {
             "outlinewidth": 0,
             "ticks": ""
            },
            "colorscale": [
             [
              0,
              "#0d0887"
             ],
             [
              0.1111111111111111,
              "#46039f"
             ],
             [
              0.2222222222222222,
              "#7201a8"
             ],
             [
              0.3333333333333333,
              "#9c179e"
             ],
             [
              0.4444444444444444,
              "#bd3786"
             ],
             [
              0.5555555555555556,
              "#d8576b"
             ],
             [
              0.6666666666666666,
              "#ed7953"
             ],
             [
              0.7777777777777778,
              "#fb9f3a"
             ],
             [
              0.8888888888888888,
              "#fdca26"
             ],
             [
              1,
              "#f0f921"
             ]
            ],
            "type": "heatmap"
           }
          ],
          "heatmapgl": [
           {
            "colorbar": {
             "outlinewidth": 0,
             "ticks": ""
            },
            "colorscale": [
             [
              0,
              "#0d0887"
             ],
             [
              0.1111111111111111,
              "#46039f"
             ],
             [
              0.2222222222222222,
              "#7201a8"
             ],
             [
              0.3333333333333333,
              "#9c179e"
             ],
             [
              0.4444444444444444,
              "#bd3786"
             ],
             [
              0.5555555555555556,
              "#d8576b"
             ],
             [
              0.6666666666666666,
              "#ed7953"
             ],
             [
              0.7777777777777778,
              "#fb9f3a"
             ],
             [
              0.8888888888888888,
              "#fdca26"
             ],
             [
              1,
              "#f0f921"
             ]
            ],
            "type": "heatmapgl"
           }
          ],
          "histogram": [
           {
            "marker": {
             "pattern": {
              "fillmode": "overlay",
              "size": 10,
              "solidity": 0.2
             }
            },
            "type": "histogram"
           }
          ],
          "histogram2d": [
           {
            "colorbar": {
             "outlinewidth": 0,
             "ticks": ""
            },
            "colorscale": [
             [
              0,
              "#0d0887"
             ],
             [
              0.1111111111111111,
              "#46039f"
             ],
             [
              0.2222222222222222,
              "#7201a8"
             ],
             [
              0.3333333333333333,
              "#9c179e"
             ],
             [
              0.4444444444444444,
              "#bd3786"
             ],
             [
              0.5555555555555556,
              "#d8576b"
             ],
             [
              0.6666666666666666,
              "#ed7953"
             ],
             [
              0.7777777777777778,
              "#fb9f3a"
             ],
             [
              0.8888888888888888,
              "#fdca26"
             ],
             [
              1,
              "#f0f921"
             ]
            ],
            "type": "histogram2d"
           }
          ],
          "histogram2dcontour": [
           {
            "colorbar": {
             "outlinewidth": 0,
             "ticks": ""
            },
            "colorscale": [
             [
              0,
              "#0d0887"
             ],
             [
              0.1111111111111111,
              "#46039f"
             ],
             [
              0.2222222222222222,
              "#7201a8"
             ],
             [
              0.3333333333333333,
              "#9c179e"
             ],
             [
              0.4444444444444444,
              "#bd3786"
             ],
             [
              0.5555555555555556,
              "#d8576b"
             ],
             [
              0.6666666666666666,
              "#ed7953"
             ],
             [
              0.7777777777777778,
              "#fb9f3a"
             ],
             [
              0.8888888888888888,
              "#fdca26"
             ],
             [
              1,
              "#f0f921"
             ]
            ],
            "type": "histogram2dcontour"
           }
          ],
          "mesh3d": [
           {
            "colorbar": {
             "outlinewidth": 0,
             "ticks": ""
            },
            "type": "mesh3d"
           }
          ],
          "parcoords": [
           {
            "line": {
             "colorbar": {
              "outlinewidth": 0,
              "ticks": ""
             }
            },
            "type": "parcoords"
           }
          ],
          "pie": [
           {
            "automargin": true,
            "type": "pie"
           }
          ],
          "scatter": [
           {
            "fillpattern": {
             "fillmode": "overlay",
             "size": 10,
             "solidity": 0.2
            },
            "type": "scatter"
           }
          ],
          "scatter3d": [
           {
            "line": {
             "colorbar": {
              "outlinewidth": 0,
              "ticks": ""
             }
            },
            "marker": {
             "colorbar": {
              "outlinewidth": 0,
              "ticks": ""
             }
            },
            "type": "scatter3d"
           }
          ],
          "scattercarpet": [
           {
            "marker": {
             "colorbar": {
              "outlinewidth": 0,
              "ticks": ""
             }
            },
            "type": "scattercarpet"
           }
          ],
          "scattergeo": [
           {
            "marker": {
             "colorbar": {
              "outlinewidth": 0,
              "ticks": ""
             }
            },
            "type": "scattergeo"
           }
          ],
          "scattergl": [
           {
            "marker": {
             "colorbar": {
              "outlinewidth": 0,
              "ticks": ""
             }
            },
            "type": "scattergl"
           }
          ],
          "scattermapbox": [
           {
            "marker": {
             "colorbar": {
              "outlinewidth": 0,
              "ticks": ""
             }
            },
            "type": "scattermapbox"
           }
          ],
          "scatterpolar": [
           {
            "marker": {
             "colorbar": {
              "outlinewidth": 0,
              "ticks": ""
             }
            },
            "type": "scatterpolar"
           }
          ],
          "scatterpolargl": [
           {
            "marker": {
             "colorbar": {
              "outlinewidth": 0,
              "ticks": ""
             }
            },
            "type": "scatterpolargl"
           }
          ],
          "scatterternary": [
           {
            "marker": {
             "colorbar": {
              "outlinewidth": 0,
              "ticks": ""
             }
            },
            "type": "scatterternary"
           }
          ],
          "surface": [
           {
            "colorbar": {
             "outlinewidth": 0,
             "ticks": ""
            },
            "colorscale": [
             [
              0,
              "#0d0887"
             ],
             [
              0.1111111111111111,
              "#46039f"
             ],
             [
              0.2222222222222222,
              "#7201a8"
             ],
             [
              0.3333333333333333,
              "#9c179e"
             ],
             [
              0.4444444444444444,
              "#bd3786"
             ],
             [
              0.5555555555555556,
              "#d8576b"
             ],
             [
              0.6666666666666666,
              "#ed7953"
             ],
             [
              0.7777777777777778,
              "#fb9f3a"
             ],
             [
              0.8888888888888888,
              "#fdca26"
             ],
             [
              1,
              "#f0f921"
             ]
            ],
            "type": "surface"
           }
          ],
          "table": [
           {
            "cells": {
             "fill": {
              "color": "#EBF0F8"
             },
             "line": {
              "color": "white"
             }
            },
            "header": {
             "fill": {
              "color": "#C8D4E3"
             },
             "line": {
              "color": "white"
             }
            },
            "type": "table"
           }
          ]
         },
         "layout": {
          "annotationdefaults": {
           "arrowcolor": "#2a3f5f",
           "arrowhead": 0,
           "arrowwidth": 1
          },
          "autotypenumbers": "strict",
          "coloraxis": {
           "colorbar": {
            "outlinewidth": 0,
            "ticks": ""
           }
          },
          "colorscale": {
           "diverging": [
            [
             0,
             "#8e0152"
            ],
            [
             0.1,
             "#c51b7d"
            ],
            [
             0.2,
             "#de77ae"
            ],
            [
             0.3,
             "#f1b6da"
            ],
            [
             0.4,
             "#fde0ef"
            ],
            [
             0.5,
             "#f7f7f7"
            ],
            [
             0.6,
             "#e6f5d0"
            ],
            [
             0.7,
             "#b8e186"
            ],
            [
             0.8,
             "#7fbc41"
            ],
            [
             0.9,
             "#4d9221"
            ],
            [
             1,
             "#276419"
            ]
           ],
           "sequential": [
            [
             0,
             "#0d0887"
            ],
            [
             0.1111111111111111,
             "#46039f"
            ],
            [
             0.2222222222222222,
             "#7201a8"
            ],
            [
             0.3333333333333333,
             "#9c179e"
            ],
            [
             0.4444444444444444,
             "#bd3786"
            ],
            [
             0.5555555555555556,
             "#d8576b"
            ],
            [
             0.6666666666666666,
             "#ed7953"
            ],
            [
             0.7777777777777778,
             "#fb9f3a"
            ],
            [
             0.8888888888888888,
             "#fdca26"
            ],
            [
             1,
             "#f0f921"
            ]
           ],
           "sequentialminus": [
            [
             0,
             "#0d0887"
            ],
            [
             0.1111111111111111,
             "#46039f"
            ],
            [
             0.2222222222222222,
             "#7201a8"
            ],
            [
             0.3333333333333333,
             "#9c179e"
            ],
            [
             0.4444444444444444,
             "#bd3786"
            ],
            [
             0.5555555555555556,
             "#d8576b"
            ],
            [
             0.6666666666666666,
             "#ed7953"
            ],
            [
             0.7777777777777778,
             "#fb9f3a"
            ],
            [
             0.8888888888888888,
             "#fdca26"
            ],
            [
             1,
             "#f0f921"
            ]
           ]
          },
          "colorway": [
           "#636efa",
           "#EF553B",
           "#00cc96",
           "#ab63fa",
           "#FFA15A",
           "#19d3f3",
           "#FF6692",
           "#B6E880",
           "#FF97FF",
           "#FECB52"
          ],
          "font": {
           "color": "#2a3f5f"
          },
          "geo": {
           "bgcolor": "white",
           "lakecolor": "white",
           "landcolor": "#E5ECF6",
           "showlakes": true,
           "showland": true,
           "subunitcolor": "white"
          },
          "hoverlabel": {
           "align": "left"
          },
          "hovermode": "closest",
          "mapbox": {
           "style": "light"
          },
          "paper_bgcolor": "white",
          "plot_bgcolor": "#E5ECF6",
          "polar": {
           "angularaxis": {
            "gridcolor": "white",
            "linecolor": "white",
            "ticks": ""
           },
           "bgcolor": "#E5ECF6",
           "radialaxis": {
            "gridcolor": "white",
            "linecolor": "white",
            "ticks": ""
           }
          },
          "scene": {
           "xaxis": {
            "backgroundcolor": "#E5ECF6",
            "gridcolor": "white",
            "gridwidth": 2,
            "linecolor": "white",
            "showbackground": true,
            "ticks": "",
            "zerolinecolor": "white"
           },
           "yaxis": {
            "backgroundcolor": "#E5ECF6",
            "gridcolor": "white",
            "gridwidth": 2,
            "linecolor": "white",
            "showbackground": true,
            "ticks": "",
            "zerolinecolor": "white"
           },
           "zaxis": {
            "backgroundcolor": "#E5ECF6",
            "gridcolor": "white",
            "gridwidth": 2,
            "linecolor": "white",
            "showbackground": true,
            "ticks": "",
            "zerolinecolor": "white"
           }
          },
          "shapedefaults": {
           "line": {
            "color": "#2a3f5f"
           }
          },
          "ternary": {
           "aaxis": {
            "gridcolor": "white",
            "linecolor": "white",
            "ticks": ""
           },
           "baxis": {
            "gridcolor": "white",
            "linecolor": "white",
            "ticks": ""
           },
           "bgcolor": "#E5ECF6",
           "caxis": {
            "gridcolor": "white",
            "linecolor": "white",
            "ticks": ""
           }
          },
          "title": {
           "x": 0.05
          },
          "xaxis": {
           "automargin": true,
           "gridcolor": "white",
           "linecolor": "white",
           "ticks": "",
           "title": {
            "standoff": 15
           },
           "zerolinecolor": "white",
           "zerolinewidth": 2
          },
          "yaxis": {
           "automargin": true,
           "gridcolor": "white",
           "linecolor": "white",
           "ticks": "",
           "title": {
            "standoff": 15
           },
           "zerolinecolor": "white",
           "zerolinewidth": 2
          }
         }
        },
        "title": {
         "text": "Month wise Video upload count"
        },
        "xaxis": {
         "anchor": "y",
         "categoryarray": [
          "Apr",
          "Aug",
          "Dec",
          "Feb",
          "Jan",
          "Jul",
          "Jun",
          "Mar",
          "May",
          "Nov",
          "Oct",
          "Sep"
         ],
         "categoryorder": "array",
         "domain": [
          0,
          1
         ],
         "title": {
          "text": "Month"
         }
        },
        "yaxis": {
         "anchor": "x",
         "domain": [
          0,
          1
         ],
         "title": {
          "text": "size"
         }
        }
       }
      }
     },
     "metadata": {},
     "output_type": "display_data"
    }
   ],
   "source": [
    "fig = px.bar(\n",
    "    video_per_month, \n",
    "    x='Month', \n",
    "    y='size', \n",
    "    title=\"Month wise Video upload count\",\n",
    "    color='Month',\n",
    "    color_discrete_sequence=px.colors.qualitative.Set3\n",
    ")\n",
    "fig.show()"
   ]
  }
 ],
 "metadata": {
  "kernelspec": {
   "display_name": "Python 3",
   "language": "python",
   "name": "python3"
  },
  "language_info": {
   "codemirror_mode": {
    "name": "ipython",
    "version": 3
   },
   "file_extension": ".py",
   "mimetype": "text/x-python",
   "name": "python",
   "nbconvert_exporter": "python",
   "pygments_lexer": "ipython3",
   "version": "3.12.5"
  }
 },
 "nbformat": 4,
 "nbformat_minor": 2
}
